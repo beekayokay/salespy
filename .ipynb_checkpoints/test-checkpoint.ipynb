{
 "cells": [
  {
   "cell_type": "code",
   "execution_count": 23,
   "metadata": {},
   "outputs": [
    {
     "name": "stdout",
     "output_type": "stream",
     "text": [
      "Salesforce Password: ········\n",
      "---STATUS: Last SFDC Tran Num Extracted---\n",
      "---STATUS: Bookings Data Extracted---\n",
      "---STATUS: Old SFDC Records Extracted---\n"
     ]
    }
   ],
   "source": [
    "import os\n",
    "\n",
    "from salespy import SalesforceClass, EpicorClass\n",
    "\n",
    "# login to Salesforce\n",
    "sf = SalesforceClass(\n",
    "    username='bko@fs-elliott.com.test', sandbox='test',\n",
    "    org_id='00D7A0000009Kmw'\n",
    ")\n",
    "\n",
    "creds = sf.login()\n",
    "\n",
    "# get most recent Tran Num\n",
    "last_tran_num = sf.get_last_tran(creds=creds)\n",
    "print('---STATUS: Last SFDC Tran Num Extracted---')\n",
    "\n",
    "# get Epicor file\n",
    "directory = (\n",
    "    '/Users/beekayokay/OneDrive/Projects/'\n",
    "    'Salesforce Epicor Integration/'\n",
    ")\n",
    "file_name = 'test_bookings_df_2.xlsx'\n",
    "\n",
    "# call Epicor Class and assign DataFrame\n",
    "epicor = EpicorClass()\n",
    "bookings_df = epicor.bookings_to_df(os.path.join(directory, file_name))\n",
    "\n",
    "# remove old Tran Nums\n",
    "old_trans = bookings_df['Name'] <= last_tran_num\n",
    "bookings_df = bookings_df[~old_trans]\n",
    "print('---STATUS: Bookings Data Extracted---')\n",
    "\n",
    "# get tuples of Order Num Ln\n",
    "order_num_ln = tuple(bookings_df['Order_Num_Ln__c'])\n",
    "\n",
    "# get Salesforce records to append\n",
    "sfdc_df = sf.get_epicor_trans(creds=creds, order_num_ln=order_num_ln)\n",
    "print('---STATUS: Old SFDC Records Extracted---')\n",
    "\n",
    "# merge DataFrames\n",
    "merged_df = epicor.merge_dfs(bookings_df, sfdc_df)"
   ]
  },
  {
   "cell_type": "code",
   "execution_count": 34,
   "metadata": {},
   "outputs": [
    {
     "name": "stdout",
     "output_type": "stream",
     "text": [
      "Pandas(OrderNum__c=14, OrderLn__c=1, Name=25, Book_Date__c=Timestamp('2003-10-02 00:00:00'), BookType__c='New', OrderRel__c=1, Prod_Code__c='AICE', SN__c='E311603B-1', Order_Line_Amt__c=962000, PO_Num__c='SMJR2BOO11', Need_By_Date__c=Timestamp('2003-10-17 00:00:00'), Quote_Num__c=nan, Quote_Line__c=nan, Sales_Representative__c='F103', Salesperson__c='R328', Primary_Salesperson_Origin__c=nan, Sales_Director_Origin__c=nan, Regional_Sales_Manager_Origin__c=nan, Cust_ID__c=7845, Customer_Name__c='CHIYODA CORPORATION', Ultimate_User__c='SAUDI INTERNATIONAL PETROCHEMICAL COMPANY', Bill_To_Name__c=nan, Bill_To_Address_1__c=nan, Bill_To_Address_2__c=nan, Bill_To_Address_3__c=nan, Bill_To_City__c=nan, Bill_To_State__c=nan, Bill_To_Zip__c=nan, Bill_To_Country__c=nan, Ship_To_Num__c=2, Ship_To_Name__c='CPL SMJ AL-JUBAIL SITE OFFICE', Ship_To_Address_1__c='SAUDI INTERNATIONAL PETROCHEMICAL CO', Ship_To_Address_2__c='P.O. BOX 10169 JUBAIL INDUSTRIAL CITY', Ship_To_Address_3__c=nan, Ship_To_City__c='AL-JUBAIL', Ship_To_State__c=nan, Ship_To_Zip__c=31961.0, Ship_To_Country__c='SAUDI ARABIA', Packager__c=nan, Market_Segment__c='ENG', Payment_Terms__c='PROGRESS PMT 45', OrderHed_FOB__c='FOB PORT NEW YK', SysRowID__c='92059e56-e620-40ac-e111-e6c2e4812162', Order_Num_Ln__c='14-1')\n",
      "Pandas(OrderNum__c=23, OrderLn__c=1, Name=40, Book_Date__c=Timestamp('2003-10-02 00:00:00'), BookType__c='New', OrderRel__c=1, Prod_Code__c='AICE', SN__c='E311603B-1', Order_Line_Amt__c=962000, PO_Num__c='SMJR2BOO11', Need_By_Date__c=Timestamp('2003-10-17 00:00:00'), Quote_Num__c=nan, Quote_Line__c=nan, Sales_Representative__c='F103', Salesperson__c='R328', Primary_Salesperson_Origin__c=nan, Sales_Director_Origin__c=nan, Regional_Sales_Manager_Origin__c=nan, Cust_ID__c=7845, Customer_Name__c='CHIYODA CORPORATION', Ultimate_User__c='SAUDI INTERNATIONAL PETROCHEMICAL COMPANY', Bill_To_Name__c=nan, Bill_To_Address_1__c=nan, Bill_To_Address_2__c=nan, Bill_To_Address_3__c=nan, Bill_To_City__c=nan, Bill_To_State__c=nan, Bill_To_Zip__c=nan, Bill_To_Country__c=nan, Ship_To_Num__c=2, Ship_To_Name__c='CPL SMJ AL-JUBAIL SITE OFFICE', Ship_To_Address_1__c='SAUDI INTERNATIONAL PETROCHEMICAL CO', Ship_To_Address_2__c='P.O. BOX 10169 JUBAIL INDUSTRIAL CITY', Ship_To_Address_3__c=nan, Ship_To_City__c='AL-JUBAIL', Ship_To_State__c=nan, Ship_To_Zip__c=31961.0, Ship_To_Country__c='SAUDI ARABIA', Packager__c=nan, Market_Segment__c='ENG', Payment_Terms__c='PROGRESS PMT 45', OrderHed_FOB__c='FOB PORT NEW YK', SysRowID__c='92059e56-e620-40ac-e111-e6c2e4812162', Order_Num_Ln__c='23-1')\n",
      "Pandas(OrderNum__c=1000, OrderLn__c=1, Name=4650, Book_Date__c=Timestamp('2003-12-30 00:00:00'), BookType__c='Void', OrderRel__c=1, Prod_Code__c='AIIE', SN__c='E110042-3', Order_Line_Amt__c=0, PO_Num__c='A009-41003 R1', Need_By_Date__c=Timestamp('2002-06-05 00:00:00'), Quote_Num__c=nan, Quote_Line__c=nan, Sales_Representative__c='F105', Salesperson__c='R329', Primary_Salesperson_Origin__c=nan, Sales_Director_Origin__c=nan, Regional_Sales_Manager_Origin__c=nan, Cust_ID__c=46015, Customer_Name__c='XXX PT PETROTEC REKAYASA DINAMIKA', Ultimate_User__c='PT DAYA MANUNGAL (DAMATEX)', Bill_To_Name__c=nan, Bill_To_Address_1__c=nan, Bill_To_Address_2__c=nan, Bill_To_Address_3__c=nan, Bill_To_City__c=nan, Bill_To_State__c=nan, Bill_To_Zip__c=nan, Bill_To_Country__c=nan, Ship_To_Num__c=13, Ship_To_Name__c='PT DAYA MANUNGGAL (DAMATEX)', Ship_To_Address_1__c='SALATIGA', Ship_To_Address_2__c='VIA SEMARANG PORT', Ship_To_Address_3__c=nan, Ship_To_City__c=nan, Ship_To_State__c=nan, Ship_To_Zip__c=nan, Ship_To_Country__c='INDONESIA', Packager__c=nan, Market_Segment__c=nan, Payment_Terms__c='XLETTER OF CRED', OrderHed_FOB__c='C&F JAKARTA', SysRowID__c='92059e56-e620-40ac-e111-e6c2e2812162', Order_Num_Ln__c='1000-1')\n",
      "Pandas(OrderNum__c=1001, OrderLn__c=1, Name=4651, Book_Date__c=Timestamp('2003-10-02 00:00:00'), BookType__c='New', OrderRel__c=1, Prod_Code__c='AIKE', SN__c='E211900B', Order_Line_Amt__c=496000, PO_Num__c='02USSHY26SPEC2201', Need_By_Date__c=Timestamp('2003-09-01 00:00:00'), Quote_Num__c=nan, Quote_Line__c=nan, Sales_Representative__c='F105', Salesperson__c='House', Primary_Salesperson_Origin__c=nan, Sales_Director_Origin__c=nan, Regional_Sales_Manager_Origin__c=nan, Cust_ID__c=1137, Customer_Name__c='ELLIOTT COMPANY', Ultimate_User__c='SINOPEC SHANGHAI GAOQIAO BRANCH', Bill_To_Name__c=nan, Bill_To_Address_1__c=nan, Bill_To_Address_2__c=nan, Bill_To_Address_3__c=nan, Bill_To_City__c=nan, Bill_To_State__c=nan, Bill_To_Zip__c=nan, Bill_To_Country__c=nan, Ship_To_Num__c=57, Ship_To_Name__c='CHINA PETROCHEMICAL INTERNATIONAL', Ship_To_Address_1__c='CO., LTD. BUILDING C, ANLI GARDEN,', Ship_To_Address_2__c='NO.66 ANLI ST., CHAOYANG DISTRICT,', Ship_To_Address_3__c=nan, Ship_To_City__c='BEIJING', Ship_To_State__c=nan, Ship_To_Zip__c=100101.0, Ship_To_Country__c='CHINA', Packager__c=nan, Market_Segment__c='INDUS', Payment_Terms__c='NET 45 DAYS', OrderHed_FOB__c='FOB NY PORT', SysRowID__c='92059e56-e620-40ac-e111-e6c2e3812162', Order_Num_Ln__c='1001-1')\n",
      "Pandas(OrderNum__c=1002, OrderLn__c=1, Name=4652, Book_Date__c=Timestamp('2003-10-02 00:00:00'), BookType__c='New', OrderRel__c=1, Prod_Code__c='AICE', SN__c='E311603B-1', Order_Line_Amt__c=962000, PO_Num__c='SMJR2BOO11', Need_By_Date__c=Timestamp('2003-10-17 00:00:00'), Quote_Num__c=nan, Quote_Line__c=nan, Sales_Representative__c='F103', Salesperson__c='R328', Primary_Salesperson_Origin__c=nan, Sales_Director_Origin__c=nan, Regional_Sales_Manager_Origin__c=nan, Cust_ID__c=7845, Customer_Name__c='CHIYODA CORPORATION', Ultimate_User__c='SAUDI INTERNATIONAL PETROCHEMICAL COMPANY', Bill_To_Name__c=nan, Bill_To_Address_1__c=nan, Bill_To_Address_2__c=nan, Bill_To_Address_3__c=nan, Bill_To_City__c=nan, Bill_To_State__c=nan, Bill_To_Zip__c=nan, Bill_To_Country__c=nan, Ship_To_Num__c=2, Ship_To_Name__c='CPL SMJ AL-JUBAIL SITE OFFICE', Ship_To_Address_1__c='SAUDI INTERNATIONAL PETROCHEMICAL CO', Ship_To_Address_2__c='P.O. BOX 10169 JUBAIL INDUSTRIAL CITY', Ship_To_Address_3__c=nan, Ship_To_City__c='AL-JUBAIL', Ship_To_State__c=nan, Ship_To_Zip__c=31961.0, Ship_To_Country__c='SAUDI ARABIA', Packager__c=nan, Market_Segment__c='ENG', Payment_Terms__c='PROGRESS PMT 45', OrderHed_FOB__c='FOB PORT NEW YK', SysRowID__c='92059e56-e620-40ac-e111-e6c2e4812162', Order_Num_Ln__c='1002-1')\n"
     ]
    }
   ],
   "source": [
    "merged_df.astype({\n",
    "    'Book_Date__c': 'object',\n",
    "    'Need_By_Date__c': 'object'\n",
    "})\n",
    "\n",
    "df_tuple = merged_df.itertuples(index=False)\n",
    "\n",
    "for each in df_tuple:\n",
    "    print(each)"
   ]
  },
  {
   "cell_type": "code",
   "execution_count": 36,
   "metadata": {},
   "outputs": [],
   "source": [
    "from datetime import datetime\n",
    "\n",
    "bulk_data = []\n",
    "count_records = 0\n",
    "count_chars = 0\n",
    "count_rows = 0\n",
    "start_time = datetime.now()\n",
    "time_check = datetime.now()"
   ]
  },
  {
   "cell_type": "code",
   "execution_count": 37,
   "metadata": {},
   "outputs": [
    {
     "ename": "NameError",
     "evalue": "name 'object_api' is not defined",
     "output_type": "error",
     "traceback": [
      "\u001b[0;31m---------------------------------------------------------------------------\u001b[0m",
      "\u001b[0;31mNameError\u001b[0m                                 Traceback (most recent call last)",
      "\u001b[0;32m<ipython-input-37-4b465264b729>\u001b[0m in \u001b[0;36m<module>\u001b[0;34m\u001b[0m\n\u001b[1;32m     18\u001b[0m     \u001b[0mcount_chars\u001b[0m \u001b[0;34m+=\u001b[0m \u001b[0mlen\u001b[0m\u001b[0;34m(\u001b[0m\u001b[0mjson\u001b[0m\u001b[0;34m.\u001b[0m\u001b[0mdumps\u001b[0m\u001b[0;34m(\u001b[0m\u001b[0meach_dict\u001b[0m\u001b[0;34m)\u001b[0m\u001b[0;34m)\u001b[0m\u001b[0;34m\u001b[0m\u001b[0;34m\u001b[0m\u001b[0m\n\u001b[1;32m     19\u001b[0m     \u001b[0mcount_rows\u001b[0m \u001b[0;34m+=\u001b[0m \u001b[0;36m1\u001b[0m\u001b[0;34m\u001b[0m\u001b[0;34m\u001b[0m\u001b[0m\n\u001b[0;32m---> 20\u001b[0;31m \u001b[0mgetattr\u001b[0m\u001b[0;34m(\u001b[0m\u001b[0mcreds\u001b[0m\u001b[0;34m.\u001b[0m\u001b[0mbulk\u001b[0m\u001b[0;34m,\u001b[0m \u001b[0mobject_api\u001b[0m\u001b[0;34m)\u001b[0m\u001b[0;34m.\u001b[0m\u001b[0mupsert\u001b[0m\u001b[0;34m(\u001b[0m\u001b[0mex_id\u001b[0m\u001b[0;34m,\u001b[0m \u001b[0mbulk_data\u001b[0m\u001b[0;34m)\u001b[0m\u001b[0;34m\u001b[0m\u001b[0;34m\u001b[0m\u001b[0m\n\u001b[0m",
      "\u001b[0;31mNameError\u001b[0m: name 'object_api' is not defined"
     ]
    }
   ],
   "source": [
    "for each in df_tuple:\n",
    "    if (datetime.now() - time_check).seconds > 15:\n",
    "        print(\n",
    "            f'{count_rows} rows have been processed. '\n",
    "            f'{round((datetime.now() - start_time).seconds/60, 2)} '\n",
    "            'minutes have passed'\n",
    "        )\n",
    "        time_check = datetime.now()\n",
    "\n",
    "    if count_records >= 5000 or count_chars >= 5000000:\n",
    "        getattr(creds.bulk, object_api).upsert(bulk_data, ex_id)\n",
    "        bulk_data = []\n",
    "        count_records = 0\n",
    "        count_chars = 0\n",
    "    each_dict = each._asdict()\n",
    "    bulk_data.append(each_dict)\n",
    "    count_records += 1\n",
    "    count_chars += len(json.dumps(each_dict))\n",
    "    count_rows += 1\n",
    "getattr(creds.bulk, 'Epicor_Transaction__c').upsert(ex_id, bulk_data)"
   ]
  },
  {
   "cell_type": "code",
   "execution_count": null,
   "metadata": {},
   "outputs": [],
   "source": [
    "print(\n",
    "    f'{count_rows} rows have been processed. '\n",
    "    f'{round((datetime.now() - start_time).seconds/60, 2)} '\n",
    "    'minutes have passed'\n",
    ")"
   ]
  },
  {
   "cell_type": "code",
   "execution_count": null,
   "metadata": {},
   "outputs": [],
   "source": []
  },
  {
   "cell_type": "code",
   "execution_count": null,
   "metadata": {},
   "outputs": [],
   "source": []
  }
 ],
 "metadata": {
  "file_extension": ".py",
  "kernelspec": {
   "display_name": "Python 3",
   "language": "python",
   "name": "python3"
  },
  "language_info": {
   "codemirror_mode": {
    "name": "ipython",
    "version": 3
   },
   "file_extension": ".py",
   "mimetype": "text/x-python",
   "name": "python",
   "nbconvert_exporter": "python",
   "pygments_lexer": "ipython3",
   "version": "3.8.1"
  },
  "mimetype": "text/x-python",
  "name": "python",
  "npconvert_exporter": "python",
  "pygments_lexer": "ipython3",
  "version": 3
 },
 "nbformat": 4,
 "nbformat_minor": 2
}
