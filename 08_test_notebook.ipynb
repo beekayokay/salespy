{
 "nbformat": 4,
 "nbformat_minor": 2,
 "metadata": {
  "language_info": {
   "name": "python",
   "codemirror_mode": {
    "name": "ipython",
    "version": 3
   },
   "version": "3.8.1-final"
  },
  "orig_nbformat": 2,
  "file_extension": ".py",
  "mimetype": "text/x-python",
  "name": "python",
  "npconvert_exporter": "python",
  "pygments_lexer": "ipython3",
  "version": 3,
  "kernelspec": {
   "name": "python38164bitsalespycondabaa4ad19ede0484f890b3fb0b6c944d1",
   "display_name": "Python 3.8.1 64-bit ('salespy': conda)"
  }
 },
 "cells": [
  {
   "cell_type": "code",
   "execution_count": 1,
   "metadata": {},
   "outputs": [],
   "source": [
    "import os\n",
    "\n",
    "import pandas as pd\n",
    "\n",
    "from salespy import SalesforceClass, EpicorClass\n",
    "\n",
    "# login to Salesforce\n",
    "sf = SalesforceClass(\n",
    "    username='bko@fs-elliott.com.test', sandbox='test',\n",
    "    org_id='00D7A0000009Kmw'\n",
    ")\n",
    "\n",
    "creds = sf.login()"
   ]
  },
  {
   "cell_type": "code",
   "execution_count": 2,
   "metadata": {},
   "outputs": [
    {
     "output_type": "stream",
     "name": "stdout",
     "text": "--- Last SFDC Tran Num Extracted: 4652.0 ---\n"
    }
   ],
   "source": [
    "# get most recent Tran Num\n",
    "last_tran_num = sf.get_last_tran(creds=creds)\n",
    "print(f'--- Last SFDC Tran Num Extracted: {last_tran_num} ---')\n",
    "\n",
    "# get Epicor file\n",
    "directory = (\n",
    "    '/Users/beekayokay/OneDrive/Projects/'\n",
    "    'Salesforce Epicor Integration/'\n",
    ")\n",
    "file_name = 'test_bookings_df_2.xlsx'\n",
    "\n",
    "# call Epicor Class and assign DataFrame\n",
    "epicor = EpicorClass()\n",
    "bookings_df = epicor.bookings_to_df(os.path.join(directory, file_name))"
   ]
  },
  {
   "cell_type": "code",
   "execution_count": 3,
   "metadata": {},
   "outputs": [
    {
     "output_type": "execute_result",
     "data": {
      "text/plain": "   OrderNum__c  OrderLn__c  Name Book_Date__c BookType__c  OrderRel__c  \\\n0           14           1    25   2003-10-02         New            1   \n1           23           1    40   2003-10-02         New            1   \n2         1000           1  4650   2003-12-30        Void            1   \n3         1001           1  4651   2003-10-02         New            1   \n4         1002           1  4652   2003-10-02         New            1   \n\n  Prod_Code__c        SN__c  Order_Line_Amt__c          PO_Num__c  ...  \\\n0         AICE   E311603B-1             962000         SMJR2BOO11  ...   \n1         AICE   E311603B-1             962000         SMJR2BOO11  ...   \n2         AIIE    E110042-3                  0      A009-41003 R1  ...   \n3         AIKE  C0ET2E048-2             496000  02USSHY26SPEC2201  ...   \n4         AICE    C0ET2E048             962000         SMJR2BOO11  ...   \n\n  Ship_To_City__c  Ship_To_State__c  Ship_To_Zip__c Ship_To_Country__c  \\\n0       AL-JUBAIL               NaN         31961.0       SAUDI ARABIA   \n1       AL-JUBAIL               NaN         31961.0       SAUDI ARABIA   \n2             NaN               NaN             NaN          INDONESIA   \n3         BEIJING               NaN        100101.0              CHINA   \n4       AL-JUBAIL               NaN         31961.0       SAUDI ARABIA   \n\n  Packager__c  Market_Segment__c  Payment_Terms__c  OrderHed_FOB__c  \\\n0         NaN                ENG   PROGRESS PMT 45  FOB PORT NEW YK   \n1         NaN                ENG   PROGRESS PMT 45  FOB PORT NEW YK   \n2         NaN                NaN   XLETTER OF CRED      C&F JAKARTA   \n3         NaN              INDUS       NET 45 DAYS      FOB NY PORT   \n4         NaN                ENG   PROGRESS PMT 45  FOB PORT NEW YK   \n\n                            SysRowID__c Order_Num_Ln__c  \n0  92059e56-e620-40ac-e111-e6c2e4812162            14-1  \n1  92059e56-e620-40ac-e111-e6c2e4812162            23-1  \n2  92059e56-e620-40ac-e111-e6c2e2812162          1000-1  \n3  92059e56-e620-40ac-e111-e6c2e3812162          1001-1  \n4  92059e56-e620-40ac-e111-e6c2e4812162          1002-1  \n\n[5 rows x 44 columns]",
      "text/html": "<div>\n<style scoped>\n    .dataframe tbody tr th:only-of-type {\n        vertical-align: middle;\n    }\n\n    .dataframe tbody tr th {\n        vertical-align: top;\n    }\n\n    .dataframe thead th {\n        text-align: right;\n    }\n</style>\n<table border=\"1\" class=\"dataframe\">\n  <thead>\n    <tr style=\"text-align: right;\">\n      <th></th>\n      <th>OrderNum__c</th>\n      <th>OrderLn__c</th>\n      <th>Name</th>\n      <th>Book_Date__c</th>\n      <th>BookType__c</th>\n      <th>OrderRel__c</th>\n      <th>Prod_Code__c</th>\n      <th>SN__c</th>\n      <th>Order_Line_Amt__c</th>\n      <th>PO_Num__c</th>\n      <th>...</th>\n      <th>Ship_To_City__c</th>\n      <th>Ship_To_State__c</th>\n      <th>Ship_To_Zip__c</th>\n      <th>Ship_To_Country__c</th>\n      <th>Packager__c</th>\n      <th>Market_Segment__c</th>\n      <th>Payment_Terms__c</th>\n      <th>OrderHed_FOB__c</th>\n      <th>SysRowID__c</th>\n      <th>Order_Num_Ln__c</th>\n    </tr>\n  </thead>\n  <tbody>\n    <tr>\n      <th>0</th>\n      <td>14</td>\n      <td>1</td>\n      <td>25</td>\n      <td>2003-10-02</td>\n      <td>New</td>\n      <td>1</td>\n      <td>AICE</td>\n      <td>E311603B-1</td>\n      <td>962000</td>\n      <td>SMJR2BOO11</td>\n      <td>...</td>\n      <td>AL-JUBAIL</td>\n      <td>NaN</td>\n      <td>31961.0</td>\n      <td>SAUDI ARABIA</td>\n      <td>NaN</td>\n      <td>ENG</td>\n      <td>PROGRESS PMT 45</td>\n      <td>FOB PORT NEW YK</td>\n      <td>92059e56-e620-40ac-e111-e6c2e4812162</td>\n      <td>14-1</td>\n    </tr>\n    <tr>\n      <th>1</th>\n      <td>23</td>\n      <td>1</td>\n      <td>40</td>\n      <td>2003-10-02</td>\n      <td>New</td>\n      <td>1</td>\n      <td>AICE</td>\n      <td>E311603B-1</td>\n      <td>962000</td>\n      <td>SMJR2BOO11</td>\n      <td>...</td>\n      <td>AL-JUBAIL</td>\n      <td>NaN</td>\n      <td>31961.0</td>\n      <td>SAUDI ARABIA</td>\n      <td>NaN</td>\n      <td>ENG</td>\n      <td>PROGRESS PMT 45</td>\n      <td>FOB PORT NEW YK</td>\n      <td>92059e56-e620-40ac-e111-e6c2e4812162</td>\n      <td>23-1</td>\n    </tr>\n    <tr>\n      <th>2</th>\n      <td>1000</td>\n      <td>1</td>\n      <td>4650</td>\n      <td>2003-12-30</td>\n      <td>Void</td>\n      <td>1</td>\n      <td>AIIE</td>\n      <td>E110042-3</td>\n      <td>0</td>\n      <td>A009-41003 R1</td>\n      <td>...</td>\n      <td>NaN</td>\n      <td>NaN</td>\n      <td>NaN</td>\n      <td>INDONESIA</td>\n      <td>NaN</td>\n      <td>NaN</td>\n      <td>XLETTER OF CRED</td>\n      <td>C&amp;F JAKARTA</td>\n      <td>92059e56-e620-40ac-e111-e6c2e2812162</td>\n      <td>1000-1</td>\n    </tr>\n    <tr>\n      <th>3</th>\n      <td>1001</td>\n      <td>1</td>\n      <td>4651</td>\n      <td>2003-10-02</td>\n      <td>New</td>\n      <td>1</td>\n      <td>AIKE</td>\n      <td>C0ET2E048-2</td>\n      <td>496000</td>\n      <td>02USSHY26SPEC2201</td>\n      <td>...</td>\n      <td>BEIJING</td>\n      <td>NaN</td>\n      <td>100101.0</td>\n      <td>CHINA</td>\n      <td>NaN</td>\n      <td>INDUS</td>\n      <td>NET 45 DAYS</td>\n      <td>FOB NY PORT</td>\n      <td>92059e56-e620-40ac-e111-e6c2e3812162</td>\n      <td>1001-1</td>\n    </tr>\n    <tr>\n      <th>4</th>\n      <td>1002</td>\n      <td>1</td>\n      <td>4652</td>\n      <td>2003-10-02</td>\n      <td>New</td>\n      <td>1</td>\n      <td>AICE</td>\n      <td>C0ET2E048</td>\n      <td>962000</td>\n      <td>SMJR2BOO11</td>\n      <td>...</td>\n      <td>AL-JUBAIL</td>\n      <td>NaN</td>\n      <td>31961.0</td>\n      <td>SAUDI ARABIA</td>\n      <td>NaN</td>\n      <td>ENG</td>\n      <td>PROGRESS PMT 45</td>\n      <td>FOB PORT NEW YK</td>\n      <td>92059e56-e620-40ac-e111-e6c2e4812162</td>\n      <td>1002-1</td>\n    </tr>\n  </tbody>\n</table>\n<p>5 rows × 44 columns</p>\n</div>"
     },
     "metadata": {},
     "execution_count": 3
    }
   ],
   "source": [
    "bookings_df.head()"
   ]
  },
  {
   "cell_type": "code",
   "execution_count": 5,
   "metadata": {},
   "outputs": [],
   "source": [
    "bookings_df = sf.add_sn_fo(creds=creds, df=bookings_df)\n",
    "bookings_df = sf.add_sn_asset(creds=creds, df=bookings_df)"
   ]
  },
  {
   "cell_type": "code",
   "execution_count": 6,
   "metadata": {},
   "outputs": [
    {
     "output_type": "execute_result",
     "data": {
      "text/plain": "   OrderNum__c  OrderLn__c  Name Book_Date__c BookType__c  OrderRel__c  \\\n0           14           1    25   2003-10-02         New            1   \n1           23           1    40   2003-10-02         New            1   \n2         1000           1  4650   2003-12-30        Void            1   \n3         1001           1  4651   2003-10-02         New            1   \n4         1002           1  4652   2003-10-02         New            1   \n\n  Prod_Code__c        SN__c  Order_Line_Amt__c          PO_Num__c  ...  \\\n0         AICE   E311603B-1             962000         SMJR2BOO11  ...   \n1         AICE   E311603B-1             962000         SMJR2BOO11  ...   \n2         AIIE    E110042-3                  0      A009-41003 R1  ...   \n3         AIKE  C0ET2E048-2             496000  02USSHY26SPEC2201  ...   \n4         AICE    C0ET2E048             962000         SMJR2BOO11  ...   \n\n  Ship_To_Zip__c  Ship_To_Country__c  Packager__c Market_Segment__c  \\\n0        31961.0        SAUDI ARABIA          NaN               ENG   \n1        31961.0        SAUDI ARABIA          NaN               ENG   \n2            NaN           INDONESIA          NaN               NaN   \n3       100101.0               CHINA          NaN             INDUS   \n4        31961.0        SAUDI ARABIA          NaN               ENG   \n\n  Payment_Terms__c  OrderHed_FOB__c                           SysRowID__c  \\\n0  PROGRESS PMT 45  FOB PORT NEW YK  92059e56-e620-40ac-e111-e6c2e4812162   \n1  PROGRESS PMT 45  FOB PORT NEW YK  92059e56-e620-40ac-e111-e6c2e4812162   \n2  XLETTER OF CRED      C&F JAKARTA  92059e56-e620-40ac-e111-e6c2e2812162   \n3      NET 45 DAYS      FOB NY PORT  92059e56-e620-40ac-e111-e6c2e3812162   \n4  PROGRESS PMT 45  FOB PORT NEW YK  92059e56-e620-40ac-e111-e6c2e4812162   \n\n   Order_Num_Ln__c    Factory_Order__c            Asset__c  \n0             14-1                 NaN                 NaN  \n1             23-1                 NaN                 NaN  \n2           1000-1                 NaN  02ii0000006PvLyAAK  \n3           1001-1                 NaN  02i7A000004wF5jQAE  \n4           1002-1  a1n7A000001CObtQAG                 NaN  \n\n[5 rows x 46 columns]",
      "text/html": "<div>\n<style scoped>\n    .dataframe tbody tr th:only-of-type {\n        vertical-align: middle;\n    }\n\n    .dataframe tbody tr th {\n        vertical-align: top;\n    }\n\n    .dataframe thead th {\n        text-align: right;\n    }\n</style>\n<table border=\"1\" class=\"dataframe\">\n  <thead>\n    <tr style=\"text-align: right;\">\n      <th></th>\n      <th>OrderNum__c</th>\n      <th>OrderLn__c</th>\n      <th>Name</th>\n      <th>Book_Date__c</th>\n      <th>BookType__c</th>\n      <th>OrderRel__c</th>\n      <th>Prod_Code__c</th>\n      <th>SN__c</th>\n      <th>Order_Line_Amt__c</th>\n      <th>PO_Num__c</th>\n      <th>...</th>\n      <th>Ship_To_Zip__c</th>\n      <th>Ship_To_Country__c</th>\n      <th>Packager__c</th>\n      <th>Market_Segment__c</th>\n      <th>Payment_Terms__c</th>\n      <th>OrderHed_FOB__c</th>\n      <th>SysRowID__c</th>\n      <th>Order_Num_Ln__c</th>\n      <th>Factory_Order__c</th>\n      <th>Asset__c</th>\n    </tr>\n  </thead>\n  <tbody>\n    <tr>\n      <th>0</th>\n      <td>14</td>\n      <td>1</td>\n      <td>25</td>\n      <td>2003-10-02</td>\n      <td>New</td>\n      <td>1</td>\n      <td>AICE</td>\n      <td>E311603B-1</td>\n      <td>962000</td>\n      <td>SMJR2BOO11</td>\n      <td>...</td>\n      <td>31961.0</td>\n      <td>SAUDI ARABIA</td>\n      <td>NaN</td>\n      <td>ENG</td>\n      <td>PROGRESS PMT 45</td>\n      <td>FOB PORT NEW YK</td>\n      <td>92059e56-e620-40ac-e111-e6c2e4812162</td>\n      <td>14-1</td>\n      <td>NaN</td>\n      <td>NaN</td>\n    </tr>\n    <tr>\n      <th>1</th>\n      <td>23</td>\n      <td>1</td>\n      <td>40</td>\n      <td>2003-10-02</td>\n      <td>New</td>\n      <td>1</td>\n      <td>AICE</td>\n      <td>E311603B-1</td>\n      <td>962000</td>\n      <td>SMJR2BOO11</td>\n      <td>...</td>\n      <td>31961.0</td>\n      <td>SAUDI ARABIA</td>\n      <td>NaN</td>\n      <td>ENG</td>\n      <td>PROGRESS PMT 45</td>\n      <td>FOB PORT NEW YK</td>\n      <td>92059e56-e620-40ac-e111-e6c2e4812162</td>\n      <td>23-1</td>\n      <td>NaN</td>\n      <td>NaN</td>\n    </tr>\n    <tr>\n      <th>2</th>\n      <td>1000</td>\n      <td>1</td>\n      <td>4650</td>\n      <td>2003-12-30</td>\n      <td>Void</td>\n      <td>1</td>\n      <td>AIIE</td>\n      <td>E110042-3</td>\n      <td>0</td>\n      <td>A009-41003 R1</td>\n      <td>...</td>\n      <td>NaN</td>\n      <td>INDONESIA</td>\n      <td>NaN</td>\n      <td>NaN</td>\n      <td>XLETTER OF CRED</td>\n      <td>C&amp;F JAKARTA</td>\n      <td>92059e56-e620-40ac-e111-e6c2e2812162</td>\n      <td>1000-1</td>\n      <td>NaN</td>\n      <td>02ii0000006PvLyAAK</td>\n    </tr>\n    <tr>\n      <th>3</th>\n      <td>1001</td>\n      <td>1</td>\n      <td>4651</td>\n      <td>2003-10-02</td>\n      <td>New</td>\n      <td>1</td>\n      <td>AIKE</td>\n      <td>C0ET2E048-2</td>\n      <td>496000</td>\n      <td>02USSHY26SPEC2201</td>\n      <td>...</td>\n      <td>100101.0</td>\n      <td>CHINA</td>\n      <td>NaN</td>\n      <td>INDUS</td>\n      <td>NET 45 DAYS</td>\n      <td>FOB NY PORT</td>\n      <td>92059e56-e620-40ac-e111-e6c2e3812162</td>\n      <td>1001-1</td>\n      <td>NaN</td>\n      <td>02i7A000004wF5jQAE</td>\n    </tr>\n    <tr>\n      <th>4</th>\n      <td>1002</td>\n      <td>1</td>\n      <td>4652</td>\n      <td>2003-10-02</td>\n      <td>New</td>\n      <td>1</td>\n      <td>AICE</td>\n      <td>C0ET2E048</td>\n      <td>962000</td>\n      <td>SMJR2BOO11</td>\n      <td>...</td>\n      <td>31961.0</td>\n      <td>SAUDI ARABIA</td>\n      <td>NaN</td>\n      <td>ENG</td>\n      <td>PROGRESS PMT 45</td>\n      <td>FOB PORT NEW YK</td>\n      <td>92059e56-e620-40ac-e111-e6c2e4812162</td>\n      <td>1002-1</td>\n      <td>a1n7A000001CObtQAG</td>\n      <td>NaN</td>\n    </tr>\n  </tbody>\n</table>\n<p>5 rows × 46 columns</p>\n</div>"
     },
     "metadata": {},
     "execution_count": 6
    }
   ],
   "source": [
    "bookings_df"
   ]
  },
  {
   "cell_type": "code",
   "execution_count": null,
   "metadata": {},
   "outputs": [],
   "source": []
  }
 ]
}