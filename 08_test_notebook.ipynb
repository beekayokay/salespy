{
 "nbformat": 4,
 "nbformat_minor": 2,
 "metadata": {
  "language_info": {
   "name": "python",
   "codemirror_mode": {
    "name": "ipython",
    "version": 3
   },
   "version": "3.8.1-final"
  },
  "orig_nbformat": 2,
  "file_extension": ".py",
  "mimetype": "text/x-python",
  "name": "python",
  "npconvert_exporter": "python",
  "pygments_lexer": "ipython3",
  "version": 3,
  "kernelspec": {
   "name": "python38164bitsalespycondabaa4ad19ede0484f890b3fb0b6c944d1",
   "display_name": "Python 3.8.1 64-bit ('salespy': conda)"
  }
 },
 "cells": [
  {
   "cell_type": "code",
   "execution_count": 1,
   "metadata": {},
   "outputs": [
    {
     "output_type": "stream",
     "name": "stdout",
     "text": "--- Logged Into Salesforce ---\n--- Merged Files: 1261577 ---\n--- Aggregated Data: 1333241 ---\n"
    }
   ],
   "source": [
    "import os\n",
    "import shutil\n",
    "\n",
    "import pandas as pd\n",
    "from salespy import SalesforceClass, EpicorClass\n",
    "\n",
    "# login to Salesforce & get credentials\n",
    "sf = SalesforceClass(\n",
    "    username='bko@fs-elliott.com.test', sandbox='test',\n",
    "    org_id='00D7A0000009Kmw'\n",
    ")\n",
    "creds = sf.login()\n",
    "print(f'--- Logged Into Salesforce ---')\n",
    "\n",
    "# epicor file directory\n",
    "directory = (\n",
    "    '/Users/beekayokay/OneDrive/Projects/'\n",
    "    'Salesforce Epicor Integration/E10 Reports To Upload'\n",
    ")\n",
    "\n",
    "# loop through epicor files and merge\n",
    "count = 0\n",
    "epicor = EpicorClass()\n",
    "bookings_df = pd.DataFrame()\n",
    "for each in os.listdir(directory):\n",
    "    temp_df = pd.DataFrame()\n",
    "    if each == '.DS_Store':\n",
    "        continue\n",
    "    try:\n",
    "        temp_df = epicor.bookings_to_df(os.path.join(directory, each))\n",
    "        bookings_df = bookings_df.append(temp_df, ignore_index=True)\n",
    "    except IsADirectoryError:\n",
    "        continue\n",
    "print(f'--- Merged Files: {bookings_df.size} ---')\n",
    "\n",
    "# aggregate df by OrderNum & OrderLn\n",
    "bookings_df = epicor.aggregate_df(bookings_df)\n",
    "print(f'--- Aggregated Data: {bookings_df.size} ---')"
   ]
  },
  {
   "cell_type": "code",
   "execution_count": 4,
   "metadata": {},
   "outputs": [],
   "source": [
    "from datetime import datetime\n",
    "book_df = bookings_df['Book_Date__c']\n",
    "book_df = book_df.append(bookings_df['Original_Book_Date__c'])\n",
    "book_df.drop_duplicates(inplace=True)\n",
    "book_list = [datetime.strftime(each, '%Y-%m-%d') for each in list(book_df)]\n",
    "book_query = ', '.join(list(book_list))"
   ]
  },
  {
   "cell_type": "code",
   "execution_count": 5,
   "metadata": {},
   "outputs": [],
   "source": [
    "query_call = (\n",
    "    'SELECT Actual_Date__c, Fiscal_Month__c '\n",
    "    'FROM Fiscal_Date__c '\n",
    "    'WHERE Actual_Date__c IN '\n",
    "    f\"({book_query})\"\n",
    ")\n",
    "\n",
    "fisc_df = sf.bulk_query(creds=creds, object_api='Fiscal_Date__c', query_call=query_call)"
   ]
  },
  {
   "cell_type": "code",
   "execution_count": 6,
   "metadata": {},
   "outputs": [],
   "source": [
    "cur_fisc_df = fisc_df.copy()\n",
    "org_fisc_df = fisc_df.copy()\n",
    "cur_fisc_df.rename(columns={'Actual_Date__c': 'Book_Date__c'}, inplace=True)\n",
    "org_fisc_df.rename(columns={'Actual_Date__c': 'Original_Book_Date__c', 'Fiscal_Month__c': 'Original_Fiscal_Month__c'}, inplace=True)"
   ]
  },
  {
   "cell_type": "code",
   "execution_count": 7,
   "metadata": {},
   "outputs": [],
   "source": [
    "cur_fisc_df['Book_Date__c'] = pd.to_datetime(cur_fisc_df['Book_Date__c'])\n",
    "cur_fisc_df['Fiscal_Month__c'] = pd.to_datetime(cur_fisc_df['Fiscal_Month__c'])\n",
    "org_fisc_df['Original_Book_Date__c'] = pd.to_datetime(org_fisc_df['Original_Book_Date__c'])\n",
    "org_fisc_df['Original_Fiscal_Month__c'] = pd.to_datetime(org_fisc_df['Original_Fiscal_Month__c'])"
   ]
  },
  {
   "cell_type": "code",
   "execution_count": 9,
   "metadata": {},
   "outputs": [],
   "source": [
    "bookings_df = bookings_df.merge(org_fisc_df, how='left', on='Original_Book_Date__c')\n",
    "bookings_df = bookings_df.merge(cur_fisc_df, how='left', on='Book_Date__c')"
   ]
  }
 ]
}