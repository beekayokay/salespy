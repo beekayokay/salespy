{
 "nbformat": 4,
 "nbformat_minor": 2,
 "metadata": {
  "language_info": {
   "name": "python",
   "codemirror_mode": {
    "name": "ipython",
    "version": 3
   },
   "version": "3.8.1-final"
  },
  "orig_nbformat": 2,
  "file_extension": ".py",
  "mimetype": "text/x-python",
  "name": "python",
  "npconvert_exporter": "python",
  "pygments_lexer": "ipython3",
  "version": 3,
  "kernelspec": {
   "name": "python38164bitsalespycondabaa4ad19ede0484f890b3fb0b6c944d1",
   "display_name": "Python 3.8.1 64-bit ('salespy': conda)"
  }
 },
 "cells": [
  {
   "cell_type": "code",
   "execution_count": 1,
   "metadata": {},
   "outputs": [],
   "source": [
    "import os\n",
    "\n",
    "from salespy import SalesforceClass, EpicorClass"
   ]
  },
  {
   "cell_type": "code",
   "execution_count": 2,
   "metadata": {},
   "outputs": [],
   "source": [
    "import pandas as pd"
   ]
  },
  {
   "cell_type": "code",
   "execution_count": 3,
   "metadata": {},
   "outputs": [
    {
     "output_type": "stream",
     "name": "stdout",
     "text": "--- Logged Into Salesforce ---\n"
    }
   ],
   "source": [
    "# login to Salesforce & get credentials\n",
    "sf = SalesforceClass(\n",
    "    username='bko@fs-elliott.com.test', sandbox='test',\n",
    "    org_id='00D7A0000009Kmw'\n",
    ")\n",
    "creds = sf.login()\n",
    "print(f'--- Logged Into Salesforce ---')"
   ]
  },
  {
   "cell_type": "code",
   "execution_count": 4,
   "metadata": {},
   "outputs": [
    {
     "output_type": "stream",
     "name": "stdout",
     "text": "--- Got Epicor Data: 336600 ---\n"
    }
   ],
   "source": [
    "# get Epicor file\n",
    "directory = (\n",
    "    '/Users/beekayokay/OneDrive/Projects/'\n",
    "    'Salesforce Epicor Integration/'\n",
    ")\n",
    "file_name = 'test_bookings_df_2.xlsx'\n",
    "epicor = EpicorClass()\n",
    "bookings_df = epicor.bookings_to_df(os.path.join(directory, file_name))\n",
    "print(f'--- Got Epicor Data: {bookings_df.size} ---')"
   ]
  },
  {
   "cell_type": "code",
   "execution_count": 5,
   "metadata": {},
   "outputs": [
    {
     "output_type": "execute_result",
     "data": {
      "text/plain": "   OrderNum__c  OrderLn__c    Name Book_Date__c BookType__c  OrderRel__c  \\\n0        32794          31  754143   2019-11-08        Void            1   \n1        42216           1  752685   2019-10-17        Void            1   \n2        48633           1  759073   2020-01-21        Void            1   \n3        49272          14  752651   2019-10-17         New            1   \n4        49272          15  756351   2019-12-11         New            1   \n\n  Prod_Code__c      SN__c  Order_Line_Amt__c   PO_Num__c  ... Ship_To_City__c  \\\n0         SPMX  B1EQ2E290                0.0  4502235891  ...        CLAYPOOL   \n1         PIDE  E211612-1            -4000.0  C14FS0024P  ...        VALDIVIA   \n2         AP7I  B5EX2E079          -375043.0       13516  ...         GREGORY   \n3         SPMX  B3EU1E117                0.0  4506578294  ...           CEDEX   \n4         SPMX  B3EU1E117                0.0  4506578294  ...           CEDEX   \n\n   Ship_To_State__c  Ship_To_Zip__c Ship_To_Country__c Packager__c  \\\n0                AZ           85532                USA         FSE   \n1               NaN            0100              CHILE         NaN   \n2                TX           78359                USA         FSE   \n3               NaN           92227             FRANCE         NaN   \n4               NaN           92227             FRANCE         NaN   \n\n  Market_Segment__c Payment_Terms__c  OrderHed_FOB__c  \\\n0            AIRSEP  PROGRESS PMT 30      FCA FACTORY   \n1             INDUS      NET 60 DAYS      FCA FACTORY   \n2             INDUS  PROGRESS PMT 90  Ex-Works Export   \n3            AIRSEP      NET 60 DAYS      FCA FACTORY   \n4            AIRSEP      NET 60 DAYS      FCA FACTORY   \n\n                            SysRowID__c Order_Num_Ln__c  \n0  0c9b78d7-3f67-4c2f-a268-4329efe0daa7        32794-31  \n1  bb8ad44d-a9fe-4ae3-8730-5fc5b8611e1d         42216-1  \n2  7762a8f1-bb02-4299-9737-9f4930e30ffb         48633-1  \n3  3ccd1a39-eab7-4809-ba51-f1ad5a14a353        49272-14  \n4  5837a93a-01c5-4256-a573-2b1c5aaaa50e        49272-15  \n\n[5 rows x 44 columns]",
      "text/html": "<div>\n<style scoped>\n    .dataframe tbody tr th:only-of-type {\n        vertical-align: middle;\n    }\n\n    .dataframe tbody tr th {\n        vertical-align: top;\n    }\n\n    .dataframe thead th {\n        text-align: right;\n    }\n</style>\n<table border=\"1\" class=\"dataframe\">\n  <thead>\n    <tr style=\"text-align: right;\">\n      <th></th>\n      <th>OrderNum__c</th>\n      <th>OrderLn__c</th>\n      <th>Name</th>\n      <th>Book_Date__c</th>\n      <th>BookType__c</th>\n      <th>OrderRel__c</th>\n      <th>Prod_Code__c</th>\n      <th>SN__c</th>\n      <th>Order_Line_Amt__c</th>\n      <th>PO_Num__c</th>\n      <th>...</th>\n      <th>Ship_To_City__c</th>\n      <th>Ship_To_State__c</th>\n      <th>Ship_To_Zip__c</th>\n      <th>Ship_To_Country__c</th>\n      <th>Packager__c</th>\n      <th>Market_Segment__c</th>\n      <th>Payment_Terms__c</th>\n      <th>OrderHed_FOB__c</th>\n      <th>SysRowID__c</th>\n      <th>Order_Num_Ln__c</th>\n    </tr>\n  </thead>\n  <tbody>\n    <tr>\n      <th>0</th>\n      <td>32794</td>\n      <td>31</td>\n      <td>754143</td>\n      <td>2019-11-08</td>\n      <td>Void</td>\n      <td>1</td>\n      <td>SPMX</td>\n      <td>B1EQ2E290</td>\n      <td>0.0</td>\n      <td>4502235891</td>\n      <td>...</td>\n      <td>CLAYPOOL</td>\n      <td>AZ</td>\n      <td>85532</td>\n      <td>USA</td>\n      <td>FSE</td>\n      <td>AIRSEP</td>\n      <td>PROGRESS PMT 30</td>\n      <td>FCA FACTORY</td>\n      <td>0c9b78d7-3f67-4c2f-a268-4329efe0daa7</td>\n      <td>32794-31</td>\n    </tr>\n    <tr>\n      <th>1</th>\n      <td>42216</td>\n      <td>1</td>\n      <td>752685</td>\n      <td>2019-10-17</td>\n      <td>Void</td>\n      <td>1</td>\n      <td>PIDE</td>\n      <td>E211612-1</td>\n      <td>-4000.0</td>\n      <td>C14FS0024P</td>\n      <td>...</td>\n      <td>VALDIVIA</td>\n      <td>NaN</td>\n      <td>0100</td>\n      <td>CHILE</td>\n      <td>NaN</td>\n      <td>INDUS</td>\n      <td>NET 60 DAYS</td>\n      <td>FCA FACTORY</td>\n      <td>bb8ad44d-a9fe-4ae3-8730-5fc5b8611e1d</td>\n      <td>42216-1</td>\n    </tr>\n    <tr>\n      <th>2</th>\n      <td>48633</td>\n      <td>1</td>\n      <td>759073</td>\n      <td>2020-01-21</td>\n      <td>Void</td>\n      <td>1</td>\n      <td>AP7I</td>\n      <td>B5EX2E079</td>\n      <td>-375043.0</td>\n      <td>13516</td>\n      <td>...</td>\n      <td>GREGORY</td>\n      <td>TX</td>\n      <td>78359</td>\n      <td>USA</td>\n      <td>FSE</td>\n      <td>INDUS</td>\n      <td>PROGRESS PMT 90</td>\n      <td>Ex-Works Export</td>\n      <td>7762a8f1-bb02-4299-9737-9f4930e30ffb</td>\n      <td>48633-1</td>\n    </tr>\n    <tr>\n      <th>3</th>\n      <td>49272</td>\n      <td>14</td>\n      <td>752651</td>\n      <td>2019-10-17</td>\n      <td>New</td>\n      <td>1</td>\n      <td>SPMX</td>\n      <td>B3EU1E117</td>\n      <td>0.0</td>\n      <td>4506578294</td>\n      <td>...</td>\n      <td>CEDEX</td>\n      <td>NaN</td>\n      <td>92227</td>\n      <td>FRANCE</td>\n      <td>NaN</td>\n      <td>AIRSEP</td>\n      <td>NET 60 DAYS</td>\n      <td>FCA FACTORY</td>\n      <td>3ccd1a39-eab7-4809-ba51-f1ad5a14a353</td>\n      <td>49272-14</td>\n    </tr>\n    <tr>\n      <th>4</th>\n      <td>49272</td>\n      <td>15</td>\n      <td>756351</td>\n      <td>2019-12-11</td>\n      <td>New</td>\n      <td>1</td>\n      <td>SPMX</td>\n      <td>B3EU1E117</td>\n      <td>0.0</td>\n      <td>4506578294</td>\n      <td>...</td>\n      <td>CEDEX</td>\n      <td>NaN</td>\n      <td>92227</td>\n      <td>FRANCE</td>\n      <td>NaN</td>\n      <td>AIRSEP</td>\n      <td>NET 60 DAYS</td>\n      <td>FCA FACTORY</td>\n      <td>5837a93a-01c5-4256-a573-2b1c5aaaa50e</td>\n      <td>49272-15</td>\n    </tr>\n  </tbody>\n</table>\n<p>5 rows × 44 columns</p>\n</div>"
     },
     "metadata": {},
     "execution_count": 5
    }
   ],
   "source": [
    "bookings_df.head(5)"
   ]
  },
  {
   "cell_type": "code",
   "execution_count": 6,
   "metadata": {},
   "outputs": [],
   "source": [
    "bookings_df['Code_Ref'] = bookings_df['Salesperson__c']\n",
    "cp_inds = bookings_df['Code_Ref'].str.startswith('D') | bookings_df['Code_Ref'].str.startswith('R') | bookings_df['Code_Ref'].str.startswith('F')\n",
    "bookings_df.loc[~cp_inds, 'Code_Ref'] = bookings_df.loc[~cp_inds, 'Primary_Salesperson_Origin__c']\n",
    "cp_inds = bookings_df['Code_Ref'].str.startswith('D') | bookings_df['Code_Ref'].str.startswith('R') | bookings_df['Code_Ref'].str.startswith('F')\n",
    "bookings_df.loc[~cp_inds, 'Code_Ref'] = bookings_df.loc[~cp_inds, 'Regional_Sales_Manager_Origin__c']\n",
    "cp_inds = bookings_df['Code_Ref'].str.startswith('D') | bookings_df['Code_Ref'].str.startswith('R') | bookings_df['Code_Ref'].str.startswith('F')\n",
    "bookings_df.loc[~cp_inds, 'Code_Ref'] = bookings_df.loc[~cp_inds, 'Sales_Representative__c']"
   ]
  },
  {
   "cell_type": "code",
   "execution_count": 7,
   "metadata": {},
   "outputs": [],
   "source": [
    "code = bookings_df['Code_Ref'].drop_duplicates()\n",
    "code.dropna(inplace=True)\n",
    "code_tuple = tuple(code)"
   ]
  },
  {
   "cell_type": "code",
   "execution_count": 8,
   "metadata": {},
   "outputs": [],
   "source": [
    "acc_df = pd.DataFrame(columns=['Id', 'OwnerId', 'Distributor_Agreement__c', 'Sales_Representative_Agreement__c'])\n",
    "user_df = pd.DataFrame(columns=['Id', 'Salescode__c'])"
   ]
  },
  {
   "cell_type": "code",
   "execution_count": 9,
   "metadata": {},
   "outputs": [],
   "source": [
    "acc_temp_list = []\n",
    "user_temp_list = []"
   ]
  },
  {
   "cell_type": "code",
   "execution_count": 10,
   "metadata": {},
   "outputs": [],
   "source": [
    "if len(code_tuple) > 0:\n",
    "    if len(code_tuple) == 1:\n",
    "        code_tuple = code_tuple[0]\n",
    "\n",
    "    for num, each in enumerate(code_tuple):\n",
    "        acc_temp_list.append(each)\n",
    "        if len(str(acc_temp_list)) < 50000 and num != len(code_tuple)-1:\n",
    "            continue\n",
    "        else:\n",
    "            acc_query = (\n",
    "                \"SELECT Id, OwnerId, Distributor_Agreement__c, Sales_Representative_Agreement__c \"\n",
    "                \"FROM Account \"\n",
    "                \"WHERE \"\n",
    "                f\"(Distributor_Agreement__c IN {tuple(acc_temp_list)} OR \"\n",
    "                f\"Sales_Representative_Agreement__c IN {tuple(acc_temp_list)})\"\n",
    "            )\n",
    "            acc_df_temp = sf.bulk_query(\n",
    "                creds=creds, object_api='Account',\n",
    "                query_call=acc_query\n",
    "            )\n",
    "            acc_df = acc_df.append(\n",
    "                acc_df_temp, ignore_index=True\n",
    "            )\n",
    "            acc_df_temp = pd.DataFrame()\n",
    "            acc_temp_list = []"
   ]
  },
  {
   "cell_type": "code",
   "execution_count": 11,
   "metadata": {},
   "outputs": [],
   "source": [
    "if len(code_tuple) > 0:\n",
    "    if len(code_tuple) == 1:\n",
    "        code_tuple = code_tuple[0]\n",
    "\n",
    "    for num, each in enumerate(code_tuple):\n",
    "        user_temp_list.append(each)\n",
    "        if len(str(user_temp_list)) < 50000 and num != len(code_tuple)-1:\n",
    "            continue\n",
    "        else:\n",
    "            user_query = (\n",
    "                \"SELECT Id, Salescode__c \"\n",
    "                \"FROM User \"\n",
    "                \"WHERE \"\n",
    "                f\"(Salescode__c IN {tuple(user_temp_list)} AND \"\n",
    "                \"UserType = 'Standard')\"\n",
    "            )\n",
    "            user_df_temp = sf.bulk_query(\n",
    "                creds=creds, object_api='User',\n",
    "                query_call=user_query\n",
    "            )\n",
    "            user_df = user_df.append(\n",
    "                user_df_temp, ignore_index=True\n",
    "            )\n",
    "            user_df_temp = pd.DataFrame()\n",
    "            user_temp_list = []"
   ]
  },
  {
   "cell_type": "code",
   "execution_count": 12,
   "metadata": {},
   "outputs": [],
   "source": [
    "dist_df = acc_df[['Id', 'OwnerId', 'Distributor_Agreement__c']].copy()\n",
    "rep_df = acc_df[['Id', 'OwnerId', 'Sales_Representative_Agreement__c']].copy()\n",
    "dist_df.rename(columns={'Id': 'Channel_Partner__c', 'OwnerId': 'Sales_Lead__c', 'Distributor_Agreement__c': 'Code_Ref'}, inplace=True)\n",
    "rep_df.rename(columns={'Id': 'CP_Rep', 'OwnerId': 'SL_Rep', 'Sales_Representative_Agreement__c': 'Code_Ref'}, inplace=True)\n",
    "user_df.rename(columns={'Id': 'SL_User', 'Salescode__c': 'Code_Ref'}, inplace=True)"
   ]
  },
  {
   "cell_type": "code",
   "execution_count": 13,
   "metadata": {},
   "outputs": [],
   "source": [
    "bookings_df = bookings_df.merge(dist_df, how='left', on='Code_Ref')\n",
    "bookings_df = bookings_df.merge(rep_df, how='left', on='Code_Ref')\n",
    "bookings_df = bookings_df.merge(user_df, how='left', on='Code_Ref')"
   ]
  },
  {
   "cell_type": "code",
   "execution_count": 14,
   "metadata": {},
   "outputs": [
    {
     "output_type": "execute_result",
     "data": {
      "text/plain": "   OrderNum__c  OrderLn__c    Name Book_Date__c BookType__c  OrderRel__c  \\\n0        32794          31  754143   2019-11-08        Void            1   \n1        42216           1  752685   2019-10-17        Void            1   \n2        48633           1  759073   2020-01-21        Void            1   \n3        49272          14  752651   2019-10-17         New            1   \n4        49272          15  756351   2019-12-11         New            1   \n\n  Prod_Code__c      SN__c  Order_Line_Amt__c   PO_Num__c  ...  \\\n0         SPMX  B1EQ2E290                0.0  4502235891  ...   \n1         PIDE  E211612-1            -4000.0  C14FS0024P  ...   \n2         AP7I  B5EX2E079          -375043.0       13516  ...   \n3         SPMX  B3EU1E117                0.0  4506578294  ...   \n4         SPMX  B3EU1E117                0.0  4506578294  ...   \n\n  Payment_Terms__c  OrderHed_FOB__c                           SysRowID__c  \\\n0  PROGRESS PMT 30      FCA FACTORY  0c9b78d7-3f67-4c2f-a268-4329efe0daa7   \n1      NET 60 DAYS      FCA FACTORY  bb8ad44d-a9fe-4ae3-8730-5fc5b8611e1d   \n2  PROGRESS PMT 90  Ex-Works Export  7762a8f1-bb02-4299-9737-9f4930e30ffb   \n3      NET 60 DAYS      FCA FACTORY  3ccd1a39-eab7-4809-ba51-f1ad5a14a353   \n4      NET 60 DAYS      FCA FACTORY  5837a93a-01c5-4256-a573-2b1c5aaaa50e   \n\n  Order_Num_Ln__c Code_Ref  Channel_Partner__c       Sales_Lead__c  \\\n0        32794-31     F113                 NaN                 NaN   \n1         42216-1     D224  001i000000LRvQPAA1  005i0000006qn6WAAQ   \n2         48633-1     D261  001i000000LRvQaAAL  0050H000009dmdCQAQ   \n3        49272-14     R411                 NaN                 NaN   \n4        49272-15     R411                 NaN                 NaN   \n\n               CP_Rep              SL_Rep SL_User  \n0                 NaN                 NaN     NaN  \n1                 NaN                 NaN     NaN  \n2                 NaN                 NaN     NaN  \n3  001i000001RbPbqAAF  005i0000006XnIpAAK     NaN  \n4  001i000001RbPbqAAF  005i0000006XnIpAAK     NaN  \n\n[5 rows x 50 columns]",
      "text/html": "<div>\n<style scoped>\n    .dataframe tbody tr th:only-of-type {\n        vertical-align: middle;\n    }\n\n    .dataframe tbody tr th {\n        vertical-align: top;\n    }\n\n    .dataframe thead th {\n        text-align: right;\n    }\n</style>\n<table border=\"1\" class=\"dataframe\">\n  <thead>\n    <tr style=\"text-align: right;\">\n      <th></th>\n      <th>OrderNum__c</th>\n      <th>OrderLn__c</th>\n      <th>Name</th>\n      <th>Book_Date__c</th>\n      <th>BookType__c</th>\n      <th>OrderRel__c</th>\n      <th>Prod_Code__c</th>\n      <th>SN__c</th>\n      <th>Order_Line_Amt__c</th>\n      <th>PO_Num__c</th>\n      <th>...</th>\n      <th>Payment_Terms__c</th>\n      <th>OrderHed_FOB__c</th>\n      <th>SysRowID__c</th>\n      <th>Order_Num_Ln__c</th>\n      <th>Code_Ref</th>\n      <th>Channel_Partner__c</th>\n      <th>Sales_Lead__c</th>\n      <th>CP_Rep</th>\n      <th>SL_Rep</th>\n      <th>SL_User</th>\n    </tr>\n  </thead>\n  <tbody>\n    <tr>\n      <th>0</th>\n      <td>32794</td>\n      <td>31</td>\n      <td>754143</td>\n      <td>2019-11-08</td>\n      <td>Void</td>\n      <td>1</td>\n      <td>SPMX</td>\n      <td>B1EQ2E290</td>\n      <td>0.0</td>\n      <td>4502235891</td>\n      <td>...</td>\n      <td>PROGRESS PMT 30</td>\n      <td>FCA FACTORY</td>\n      <td>0c9b78d7-3f67-4c2f-a268-4329efe0daa7</td>\n      <td>32794-31</td>\n      <td>F113</td>\n      <td>NaN</td>\n      <td>NaN</td>\n      <td>NaN</td>\n      <td>NaN</td>\n      <td>NaN</td>\n    </tr>\n    <tr>\n      <th>1</th>\n      <td>42216</td>\n      <td>1</td>\n      <td>752685</td>\n      <td>2019-10-17</td>\n      <td>Void</td>\n      <td>1</td>\n      <td>PIDE</td>\n      <td>E211612-1</td>\n      <td>-4000.0</td>\n      <td>C14FS0024P</td>\n      <td>...</td>\n      <td>NET 60 DAYS</td>\n      <td>FCA FACTORY</td>\n      <td>bb8ad44d-a9fe-4ae3-8730-5fc5b8611e1d</td>\n      <td>42216-1</td>\n      <td>D224</td>\n      <td>001i000000LRvQPAA1</td>\n      <td>005i0000006qn6WAAQ</td>\n      <td>NaN</td>\n      <td>NaN</td>\n      <td>NaN</td>\n    </tr>\n    <tr>\n      <th>2</th>\n      <td>48633</td>\n      <td>1</td>\n      <td>759073</td>\n      <td>2020-01-21</td>\n      <td>Void</td>\n      <td>1</td>\n      <td>AP7I</td>\n      <td>B5EX2E079</td>\n      <td>-375043.0</td>\n      <td>13516</td>\n      <td>...</td>\n      <td>PROGRESS PMT 90</td>\n      <td>Ex-Works Export</td>\n      <td>7762a8f1-bb02-4299-9737-9f4930e30ffb</td>\n      <td>48633-1</td>\n      <td>D261</td>\n      <td>001i000000LRvQaAAL</td>\n      <td>0050H000009dmdCQAQ</td>\n      <td>NaN</td>\n      <td>NaN</td>\n      <td>NaN</td>\n    </tr>\n    <tr>\n      <th>3</th>\n      <td>49272</td>\n      <td>14</td>\n      <td>752651</td>\n      <td>2019-10-17</td>\n      <td>New</td>\n      <td>1</td>\n      <td>SPMX</td>\n      <td>B3EU1E117</td>\n      <td>0.0</td>\n      <td>4506578294</td>\n      <td>...</td>\n      <td>NET 60 DAYS</td>\n      <td>FCA FACTORY</td>\n      <td>3ccd1a39-eab7-4809-ba51-f1ad5a14a353</td>\n      <td>49272-14</td>\n      <td>R411</td>\n      <td>NaN</td>\n      <td>NaN</td>\n      <td>001i000001RbPbqAAF</td>\n      <td>005i0000006XnIpAAK</td>\n      <td>NaN</td>\n    </tr>\n    <tr>\n      <th>4</th>\n      <td>49272</td>\n      <td>15</td>\n      <td>756351</td>\n      <td>2019-12-11</td>\n      <td>New</td>\n      <td>1</td>\n      <td>SPMX</td>\n      <td>B3EU1E117</td>\n      <td>0.0</td>\n      <td>4506578294</td>\n      <td>...</td>\n      <td>NET 60 DAYS</td>\n      <td>FCA FACTORY</td>\n      <td>5837a93a-01c5-4256-a573-2b1c5aaaa50e</td>\n      <td>49272-15</td>\n      <td>R411</td>\n      <td>NaN</td>\n      <td>NaN</td>\n      <td>001i000001RbPbqAAF</td>\n      <td>005i0000006XnIpAAK</td>\n      <td>NaN</td>\n    </tr>\n  </tbody>\n</table>\n<p>5 rows × 50 columns</p>\n</div>"
     },
     "metadata": {},
     "execution_count": 14
    }
   ],
   "source": [
    "bookings_df.head(5)"
   ]
  },
  {
   "cell_type": "code",
   "execution_count": 15,
   "metadata": {},
   "outputs": [],
   "source": [
    "cp_inds = bookings_df['Channel_Partner__c'].isnull()\n",
    "bookings_df.loc[cp_inds, 'Channel_Partner__c'] = bookings_df.loc[cp_inds, 'CP_Rep']\n",
    "sl_inds = bookings_df['Sales_Lead__c'].isnull()\n",
    "bookings_df.loc[sl_inds, 'Sales_Lead__c'] = bookings_df.loc[sl_inds, 'SL_Rep']\n",
    "sl_inds = bookings_df['Sales_Lead__c'].isnull()\n",
    "bookings_df.loc[sl_inds, 'Sales_Lead__c'] = bookings_df.loc[sl_inds, 'SL_User']"
   ]
  },
  {
   "cell_type": "code",
   "execution_count": 16,
   "metadata": {},
   "outputs": [
    {
     "output_type": "execute_result",
     "data": {
      "text/plain": "   OrderNum__c  OrderLn__c    Name Book_Date__c BookType__c  OrderRel__c  \\\n0        32794          31  754143   2019-11-08        Void            1   \n1        42216           1  752685   2019-10-17        Void            1   \n2        48633           1  759073   2020-01-21        Void            1   \n3        49272          14  752651   2019-10-17         New            1   \n4        49272          15  756351   2019-12-11         New            1   \n5        52667           2  752213   2019-10-09        Void            8   \n6        52667           5  752214   2019-10-09        Void            5   \n7        52667           6  752215   2019-10-09        Void            8   \n8        52667          10  752216   2019-10-09        Void            2   \n9        53842           7  759240   2020-01-22         New            1   \n\n  Prod_Code__c               SN__c  Order_Line_Amt__c       PO_Num__c  ...  \\\n0         SPMX           B1EQ2E290                0.0      4502235891  ...   \n1         PIDE           E211612-1            -4000.0      C14FS0024P  ...   \n2         AP7I           B5EX2E079          -375043.0           13516  ...   \n3         SPMX           B3EU1E117                0.0      4506578294  ...   \n4         SPMX           B3EU1E117                0.0      4506578294  ...   \n5         RDOT  Pack Stk Pts - Ind                0.0  FORECAST MODEL  ...   \n6         RDOT  Pack Stk Pts - Ind                0.0  FORECAST MODEL  ...   \n7         RDOT  Pack Stk Pts - Ind                0.0  FORECAST MODEL  ...   \n8         RDOT  Pack Stk Pts - Ind                0.0  FORECAST MODEL  ...   \n9         AIFC           B6EL1E142                0.0      4500004343  ...   \n\n  Payment_Terms__c  OrderHed_FOB__c                           SysRowID__c  \\\n0  PROGRESS PMT 30      FCA FACTORY  0c9b78d7-3f67-4c2f-a268-4329efe0daa7   \n1      NET 60 DAYS      FCA FACTORY  bb8ad44d-a9fe-4ae3-8730-5fc5b8611e1d   \n2  PROGRESS PMT 90  Ex-Works Export  7762a8f1-bb02-4299-9737-9f4930e30ffb   \n3      NET 60 DAYS      FCA FACTORY  3ccd1a39-eab7-4809-ba51-f1ad5a14a353   \n4      NET 60 DAYS      FCA FACTORY  5837a93a-01c5-4256-a573-2b1c5aaaa50e   \n5      DO NOT MAIL            DDP-1  9dc8b431-9603-43d3-ac3d-2ba6ac023522   \n6      DO NOT MAIL            DDP-1  fb2332fc-ed35-4588-a672-5bd9b812c45b   \n7      DO NOT MAIL            DDP-1  1b3c158c-ad14-4301-a1f9-fa73117b0411   \n8      DO NOT MAIL            DDP-1  397c9cbd-9f8e-42b2-8a68-57e5fc4fe967   \n9  PROGRESS PMT 30   FOB East Coast  087959d1-06d0-454f-8260-e15bf84c29c8   \n\n  Order_Num_Ln__c Code_Ref  Channel_Partner__c       Sales_Lead__c  \\\n0        32794-31     F113                 NaN                 NaN   \n1         42216-1     D224  001i000000LRvQPAA1  005i0000006qn6WAAQ   \n2         48633-1     D261  001i000000LRvQaAAL  0050H000009dmdCQAQ   \n3        49272-14     R411  001i000001RbPbqAAF  005i0000006XnIpAAK   \n4        49272-15     R411  001i000001RbPbqAAF  005i0000006XnIpAAK   \n5         52667-2     F110                 NaN  005i0000002OS1eAAG   \n6         52667-5     F110                 NaN  005i0000002OS1eAAG   \n7         52667-6     F110                 NaN  005i0000002OS1eAAG   \n8        52667-10     F110                 NaN  005i0000002OS1eAAG   \n9         53842-7     R505  001i000000LRvRLAA1  005i0000006qn6WAAQ   \n\n               CP_Rep              SL_Rep             SL_User  \n0                 NaN                 NaN                 NaN  \n1                 NaN                 NaN                 NaN  \n2                 NaN                 NaN                 NaN  \n3  001i000001RbPbqAAF  005i0000006XnIpAAK                 NaN  \n4  001i000001RbPbqAAF  005i0000006XnIpAAK                 NaN  \n5                 NaN                 NaN  005i0000002OS1eAAG  \n6                 NaN                 NaN  005i0000002OS1eAAG  \n7                 NaN                 NaN  005i0000002OS1eAAG  \n8                 NaN                 NaN  005i0000002OS1eAAG  \n9  001i000000LRvRLAA1  005i0000006qn6WAAQ                 NaN  \n\n[10 rows x 50 columns]",
      "text/html": "<div>\n<style scoped>\n    .dataframe tbody tr th:only-of-type {\n        vertical-align: middle;\n    }\n\n    .dataframe tbody tr th {\n        vertical-align: top;\n    }\n\n    .dataframe thead th {\n        text-align: right;\n    }\n</style>\n<table border=\"1\" class=\"dataframe\">\n  <thead>\n    <tr style=\"text-align: right;\">\n      <th></th>\n      <th>OrderNum__c</th>\n      <th>OrderLn__c</th>\n      <th>Name</th>\n      <th>Book_Date__c</th>\n      <th>BookType__c</th>\n      <th>OrderRel__c</th>\n      <th>Prod_Code__c</th>\n      <th>SN__c</th>\n      <th>Order_Line_Amt__c</th>\n      <th>PO_Num__c</th>\n      <th>...</th>\n      <th>Payment_Terms__c</th>\n      <th>OrderHed_FOB__c</th>\n      <th>SysRowID__c</th>\n      <th>Order_Num_Ln__c</th>\n      <th>Code_Ref</th>\n      <th>Channel_Partner__c</th>\n      <th>Sales_Lead__c</th>\n      <th>CP_Rep</th>\n      <th>SL_Rep</th>\n      <th>SL_User</th>\n    </tr>\n  </thead>\n  <tbody>\n    <tr>\n      <th>0</th>\n      <td>32794</td>\n      <td>31</td>\n      <td>754143</td>\n      <td>2019-11-08</td>\n      <td>Void</td>\n      <td>1</td>\n      <td>SPMX</td>\n      <td>B1EQ2E290</td>\n      <td>0.0</td>\n      <td>4502235891</td>\n      <td>...</td>\n      <td>PROGRESS PMT 30</td>\n      <td>FCA FACTORY</td>\n      <td>0c9b78d7-3f67-4c2f-a268-4329efe0daa7</td>\n      <td>32794-31</td>\n      <td>F113</td>\n      <td>NaN</td>\n      <td>NaN</td>\n      <td>NaN</td>\n      <td>NaN</td>\n      <td>NaN</td>\n    </tr>\n    <tr>\n      <th>1</th>\n      <td>42216</td>\n      <td>1</td>\n      <td>752685</td>\n      <td>2019-10-17</td>\n      <td>Void</td>\n      <td>1</td>\n      <td>PIDE</td>\n      <td>E211612-1</td>\n      <td>-4000.0</td>\n      <td>C14FS0024P</td>\n      <td>...</td>\n      <td>NET 60 DAYS</td>\n      <td>FCA FACTORY</td>\n      <td>bb8ad44d-a9fe-4ae3-8730-5fc5b8611e1d</td>\n      <td>42216-1</td>\n      <td>D224</td>\n      <td>001i000000LRvQPAA1</td>\n      <td>005i0000006qn6WAAQ</td>\n      <td>NaN</td>\n      <td>NaN</td>\n      <td>NaN</td>\n    </tr>\n    <tr>\n      <th>2</th>\n      <td>48633</td>\n      <td>1</td>\n      <td>759073</td>\n      <td>2020-01-21</td>\n      <td>Void</td>\n      <td>1</td>\n      <td>AP7I</td>\n      <td>B5EX2E079</td>\n      <td>-375043.0</td>\n      <td>13516</td>\n      <td>...</td>\n      <td>PROGRESS PMT 90</td>\n      <td>Ex-Works Export</td>\n      <td>7762a8f1-bb02-4299-9737-9f4930e30ffb</td>\n      <td>48633-1</td>\n      <td>D261</td>\n      <td>001i000000LRvQaAAL</td>\n      <td>0050H000009dmdCQAQ</td>\n      <td>NaN</td>\n      <td>NaN</td>\n      <td>NaN</td>\n    </tr>\n    <tr>\n      <th>3</th>\n      <td>49272</td>\n      <td>14</td>\n      <td>752651</td>\n      <td>2019-10-17</td>\n      <td>New</td>\n      <td>1</td>\n      <td>SPMX</td>\n      <td>B3EU1E117</td>\n      <td>0.0</td>\n      <td>4506578294</td>\n      <td>...</td>\n      <td>NET 60 DAYS</td>\n      <td>FCA FACTORY</td>\n      <td>3ccd1a39-eab7-4809-ba51-f1ad5a14a353</td>\n      <td>49272-14</td>\n      <td>R411</td>\n      <td>001i000001RbPbqAAF</td>\n      <td>005i0000006XnIpAAK</td>\n      <td>001i000001RbPbqAAF</td>\n      <td>005i0000006XnIpAAK</td>\n      <td>NaN</td>\n    </tr>\n    <tr>\n      <th>4</th>\n      <td>49272</td>\n      <td>15</td>\n      <td>756351</td>\n      <td>2019-12-11</td>\n      <td>New</td>\n      <td>1</td>\n      <td>SPMX</td>\n      <td>B3EU1E117</td>\n      <td>0.0</td>\n      <td>4506578294</td>\n      <td>...</td>\n      <td>NET 60 DAYS</td>\n      <td>FCA FACTORY</td>\n      <td>5837a93a-01c5-4256-a573-2b1c5aaaa50e</td>\n      <td>49272-15</td>\n      <td>R411</td>\n      <td>001i000001RbPbqAAF</td>\n      <td>005i0000006XnIpAAK</td>\n      <td>001i000001RbPbqAAF</td>\n      <td>005i0000006XnIpAAK</td>\n      <td>NaN</td>\n    </tr>\n    <tr>\n      <th>5</th>\n      <td>52667</td>\n      <td>2</td>\n      <td>752213</td>\n      <td>2019-10-09</td>\n      <td>Void</td>\n      <td>8</td>\n      <td>RDOT</td>\n      <td>Pack Stk Pts - Ind</td>\n      <td>0.0</td>\n      <td>FORECAST MODEL</td>\n      <td>...</td>\n      <td>DO NOT MAIL</td>\n      <td>DDP-1</td>\n      <td>9dc8b431-9603-43d3-ac3d-2ba6ac023522</td>\n      <td>52667-2</td>\n      <td>F110</td>\n      <td>NaN</td>\n      <td>005i0000002OS1eAAG</td>\n      <td>NaN</td>\n      <td>NaN</td>\n      <td>005i0000002OS1eAAG</td>\n    </tr>\n    <tr>\n      <th>6</th>\n      <td>52667</td>\n      <td>5</td>\n      <td>752214</td>\n      <td>2019-10-09</td>\n      <td>Void</td>\n      <td>5</td>\n      <td>RDOT</td>\n      <td>Pack Stk Pts - Ind</td>\n      <td>0.0</td>\n      <td>FORECAST MODEL</td>\n      <td>...</td>\n      <td>DO NOT MAIL</td>\n      <td>DDP-1</td>\n      <td>fb2332fc-ed35-4588-a672-5bd9b812c45b</td>\n      <td>52667-5</td>\n      <td>F110</td>\n      <td>NaN</td>\n      <td>005i0000002OS1eAAG</td>\n      <td>NaN</td>\n      <td>NaN</td>\n      <td>005i0000002OS1eAAG</td>\n    </tr>\n    <tr>\n      <th>7</th>\n      <td>52667</td>\n      <td>6</td>\n      <td>752215</td>\n      <td>2019-10-09</td>\n      <td>Void</td>\n      <td>8</td>\n      <td>RDOT</td>\n      <td>Pack Stk Pts - Ind</td>\n      <td>0.0</td>\n      <td>FORECAST MODEL</td>\n      <td>...</td>\n      <td>DO NOT MAIL</td>\n      <td>DDP-1</td>\n      <td>1b3c158c-ad14-4301-a1f9-fa73117b0411</td>\n      <td>52667-6</td>\n      <td>F110</td>\n      <td>NaN</td>\n      <td>005i0000002OS1eAAG</td>\n      <td>NaN</td>\n      <td>NaN</td>\n      <td>005i0000002OS1eAAG</td>\n    </tr>\n    <tr>\n      <th>8</th>\n      <td>52667</td>\n      <td>10</td>\n      <td>752216</td>\n      <td>2019-10-09</td>\n      <td>Void</td>\n      <td>2</td>\n      <td>RDOT</td>\n      <td>Pack Stk Pts - Ind</td>\n      <td>0.0</td>\n      <td>FORECAST MODEL</td>\n      <td>...</td>\n      <td>DO NOT MAIL</td>\n      <td>DDP-1</td>\n      <td>397c9cbd-9f8e-42b2-8a68-57e5fc4fe967</td>\n      <td>52667-10</td>\n      <td>F110</td>\n      <td>NaN</td>\n      <td>005i0000002OS1eAAG</td>\n      <td>NaN</td>\n      <td>NaN</td>\n      <td>005i0000002OS1eAAG</td>\n    </tr>\n    <tr>\n      <th>9</th>\n      <td>53842</td>\n      <td>7</td>\n      <td>759240</td>\n      <td>2020-01-22</td>\n      <td>New</td>\n      <td>1</td>\n      <td>AIFC</td>\n      <td>B6EL1E142</td>\n      <td>0.0</td>\n      <td>4500004343</td>\n      <td>...</td>\n      <td>PROGRESS PMT 30</td>\n      <td>FOB East Coast</td>\n      <td>087959d1-06d0-454f-8260-e15bf84c29c8</td>\n      <td>53842-7</td>\n      <td>R505</td>\n      <td>001i000000LRvRLAA1</td>\n      <td>005i0000006qn6WAAQ</td>\n      <td>001i000000LRvRLAA1</td>\n      <td>005i0000006qn6WAAQ</td>\n      <td>NaN</td>\n    </tr>\n  </tbody>\n</table>\n<p>10 rows × 50 columns</p>\n</div>"
     },
     "metadata": {},
     "execution_count": 16
    }
   ],
   "source": [
    "bookings_df.head(10)"
   ]
  },
  {
   "cell_type": "code",
   "execution_count": 17,
   "metadata": {},
   "outputs": [],
   "source": [
    "bookings_df = bookings_df.drop(columns=['Code_Ref', 'CP_Rep', 'SL_Rep', 'SL_User'])"
   ]
  },
  {
   "cell_type": "code",
   "execution_count": 18,
   "metadata": {},
   "outputs": [
    {
     "output_type": "execute_result",
     "data": {
      "text/plain": "      OrderNum__c  OrderLn__c    Name Book_Date__c BookType__c  OrderRel__c  \\\n0           32794          31  754143   2019-11-08        Void            1   \n1           42216           1  752685   2019-10-17        Void            1   \n2           48633           1  759073   2020-01-21        Void            1   \n3           49272          14  752651   2019-10-17         New            1   \n4           49272          15  756351   2019-12-11         New            1   \n...           ...         ...     ...          ...         ...          ...   \n7655        68348           1  761047   2020-02-28         New            1   \n7656        68349           1  761048   2020-02-28         New            1   \n7657        68349           2  761049   2020-02-28         New            1   \n7658        68349           3  761050   2020-02-28         New            1   \n7659        68349           4  761051   2020-02-28         New            1   \n\n     Prod_Code__c        SN__c  Order_Line_Amt__c   PO_Num__c  ...  \\\n0            SPMX    B1EQ2E290               0.00  4502235891  ...   \n1            PIDE    E211612-1           -4000.00  C14FS0024P  ...   \n2            AP7I    B5EX2E079         -375043.00       13516  ...   \n3            SPMX    B3EU1E117               0.00  4506578294  ...   \n4            SPMX    B3EU1E117               0.00  4506578294  ...   \n...           ...          ...                ...         ...  ...   \n7655         PIDE  B5EU2E039-1            1836.78      044061  ...   \n7656         PIDA     A8ET2116           70273.32      044062  ...   \n7657         PIDE     A8ET2116              70.38      044062  ...   \n7658         PIDE     A8ET2116              70.38      044062  ...   \n7659         PIDE     A8ET2116             182.16      044062  ...   \n\n     Ship_To_Zip__c  Ship_To_Country__c  Packager__c Market_Segment__c  \\\n0             85532                 USA          FSE            AIRSEP   \n1              0100               CHILE          NaN             INDUS   \n2             78359                 USA          FSE             INDUS   \n3             92227              FRANCE          NaN            AIRSEP   \n4             92227              FRANCE          NaN            AIRSEP   \n...             ...                 ...          ...               ...   \n7655          27409                 USA          NaN             INDUS   \n7656          28110                 USA          NaN             INDUS   \n7657          28110                 USA          NaN             INDUS   \n7658          28110                 USA          NaN             INDUS   \n7659          28110                 USA          NaN             INDUS   \n\n     Payment_Terms__c  OrderHed_FOB__c                           SysRowID__c  \\\n0     PROGRESS PMT 30      FCA FACTORY  0c9b78d7-3f67-4c2f-a268-4329efe0daa7   \n1         NET 60 DAYS      FCA FACTORY  bb8ad44d-a9fe-4ae3-8730-5fc5b8611e1d   \n2     PROGRESS PMT 90  Ex-Works Export  7762a8f1-bb02-4299-9737-9f4930e30ffb   \n3         NET 60 DAYS      FCA FACTORY  3ccd1a39-eab7-4809-ba51-f1ad5a14a353   \n4         NET 60 DAYS      FCA FACTORY  5837a93a-01c5-4256-a573-2b1c5aaaa50e   \n...               ...              ...                                   ...   \n7655      NET 30 DAYS  Ex-Works Export  18c4ec41-6155-4434-8836-8aadaf9a43d8   \n7656      NET 30 DAYS  Ex-Works Export  356044c1-fe09-4cd6-b402-d9321e5f32f4   \n7657      NET 30 DAYS  Ex-Works Export  c9831ad8-2614-4633-ab18-87e3d9d29eb8   \n7658      NET 30 DAYS  Ex-Works Export  57511a2b-c58f-47f8-978a-e63874d13565   \n7659      NET 30 DAYS  Ex-Works Export  97e8bb26-3d8f-47cd-96fc-f96d8f8e8395   \n\n     Order_Num_Ln__c  Channel_Partner__c       Sales_Lead__c  \n0           32794-31                 NaN                 NaN  \n1            42216-1  001i000000LRvQPAA1  005i0000006qn6WAAQ  \n2            48633-1  001i000000LRvQaAAL  0050H000009dmdCQAQ  \n3           49272-14  001i000001RbPbqAAF  005i0000006XnIpAAK  \n4           49272-15  001i000001RbPbqAAF  005i0000006XnIpAAK  \n...              ...                 ...                 ...  \n7655         68348-1  001i000000LRvQ4AAL  0050H00000AFeKeQAL  \n7656         68349-1  001i000000LRvQ4AAL  0050H00000AFeKeQAL  \n7657         68349-2  001i000000LRvQ4AAL  0050H00000AFeKeQAL  \n7658         68349-3  001i000000LRvQ4AAL  0050H00000AFeKeQAL  \n7659         68349-4  001i000000LRvQ4AAL  0050H00000AFeKeQAL  \n\n[7660 rows x 46 columns]",
      "text/html": "<div>\n<style scoped>\n    .dataframe tbody tr th:only-of-type {\n        vertical-align: middle;\n    }\n\n    .dataframe tbody tr th {\n        vertical-align: top;\n    }\n\n    .dataframe thead th {\n        text-align: right;\n    }\n</style>\n<table border=\"1\" class=\"dataframe\">\n  <thead>\n    <tr style=\"text-align: right;\">\n      <th></th>\n      <th>OrderNum__c</th>\n      <th>OrderLn__c</th>\n      <th>Name</th>\n      <th>Book_Date__c</th>\n      <th>BookType__c</th>\n      <th>OrderRel__c</th>\n      <th>Prod_Code__c</th>\n      <th>SN__c</th>\n      <th>Order_Line_Amt__c</th>\n      <th>PO_Num__c</th>\n      <th>...</th>\n      <th>Ship_To_Zip__c</th>\n      <th>Ship_To_Country__c</th>\n      <th>Packager__c</th>\n      <th>Market_Segment__c</th>\n      <th>Payment_Terms__c</th>\n      <th>OrderHed_FOB__c</th>\n      <th>SysRowID__c</th>\n      <th>Order_Num_Ln__c</th>\n      <th>Channel_Partner__c</th>\n      <th>Sales_Lead__c</th>\n    </tr>\n  </thead>\n  <tbody>\n    <tr>\n      <th>0</th>\n      <td>32794</td>\n      <td>31</td>\n      <td>754143</td>\n      <td>2019-11-08</td>\n      <td>Void</td>\n      <td>1</td>\n      <td>SPMX</td>\n      <td>B1EQ2E290</td>\n      <td>0.00</td>\n      <td>4502235891</td>\n      <td>...</td>\n      <td>85532</td>\n      <td>USA</td>\n      <td>FSE</td>\n      <td>AIRSEP</td>\n      <td>PROGRESS PMT 30</td>\n      <td>FCA FACTORY</td>\n      <td>0c9b78d7-3f67-4c2f-a268-4329efe0daa7</td>\n      <td>32794-31</td>\n      <td>NaN</td>\n      <td>NaN</td>\n    </tr>\n    <tr>\n      <th>1</th>\n      <td>42216</td>\n      <td>1</td>\n      <td>752685</td>\n      <td>2019-10-17</td>\n      <td>Void</td>\n      <td>1</td>\n      <td>PIDE</td>\n      <td>E211612-1</td>\n      <td>-4000.00</td>\n      <td>C14FS0024P</td>\n      <td>...</td>\n      <td>0100</td>\n      <td>CHILE</td>\n      <td>NaN</td>\n      <td>INDUS</td>\n      <td>NET 60 DAYS</td>\n      <td>FCA FACTORY</td>\n      <td>bb8ad44d-a9fe-4ae3-8730-5fc5b8611e1d</td>\n      <td>42216-1</td>\n      <td>001i000000LRvQPAA1</td>\n      <td>005i0000006qn6WAAQ</td>\n    </tr>\n    <tr>\n      <th>2</th>\n      <td>48633</td>\n      <td>1</td>\n      <td>759073</td>\n      <td>2020-01-21</td>\n      <td>Void</td>\n      <td>1</td>\n      <td>AP7I</td>\n      <td>B5EX2E079</td>\n      <td>-375043.00</td>\n      <td>13516</td>\n      <td>...</td>\n      <td>78359</td>\n      <td>USA</td>\n      <td>FSE</td>\n      <td>INDUS</td>\n      <td>PROGRESS PMT 90</td>\n      <td>Ex-Works Export</td>\n      <td>7762a8f1-bb02-4299-9737-9f4930e30ffb</td>\n      <td>48633-1</td>\n      <td>001i000000LRvQaAAL</td>\n      <td>0050H000009dmdCQAQ</td>\n    </tr>\n    <tr>\n      <th>3</th>\n      <td>49272</td>\n      <td>14</td>\n      <td>752651</td>\n      <td>2019-10-17</td>\n      <td>New</td>\n      <td>1</td>\n      <td>SPMX</td>\n      <td>B3EU1E117</td>\n      <td>0.00</td>\n      <td>4506578294</td>\n      <td>...</td>\n      <td>92227</td>\n      <td>FRANCE</td>\n      <td>NaN</td>\n      <td>AIRSEP</td>\n      <td>NET 60 DAYS</td>\n      <td>FCA FACTORY</td>\n      <td>3ccd1a39-eab7-4809-ba51-f1ad5a14a353</td>\n      <td>49272-14</td>\n      <td>001i000001RbPbqAAF</td>\n      <td>005i0000006XnIpAAK</td>\n    </tr>\n    <tr>\n      <th>4</th>\n      <td>49272</td>\n      <td>15</td>\n      <td>756351</td>\n      <td>2019-12-11</td>\n      <td>New</td>\n      <td>1</td>\n      <td>SPMX</td>\n      <td>B3EU1E117</td>\n      <td>0.00</td>\n      <td>4506578294</td>\n      <td>...</td>\n      <td>92227</td>\n      <td>FRANCE</td>\n      <td>NaN</td>\n      <td>AIRSEP</td>\n      <td>NET 60 DAYS</td>\n      <td>FCA FACTORY</td>\n      <td>5837a93a-01c5-4256-a573-2b1c5aaaa50e</td>\n      <td>49272-15</td>\n      <td>001i000001RbPbqAAF</td>\n      <td>005i0000006XnIpAAK</td>\n    </tr>\n    <tr>\n      <th>...</th>\n      <td>...</td>\n      <td>...</td>\n      <td>...</td>\n      <td>...</td>\n      <td>...</td>\n      <td>...</td>\n      <td>...</td>\n      <td>...</td>\n      <td>...</td>\n      <td>...</td>\n      <td>...</td>\n      <td>...</td>\n      <td>...</td>\n      <td>...</td>\n      <td>...</td>\n      <td>...</td>\n      <td>...</td>\n      <td>...</td>\n      <td>...</td>\n      <td>...</td>\n      <td>...</td>\n    </tr>\n    <tr>\n      <th>7655</th>\n      <td>68348</td>\n      <td>1</td>\n      <td>761047</td>\n      <td>2020-02-28</td>\n      <td>New</td>\n      <td>1</td>\n      <td>PIDE</td>\n      <td>B5EU2E039-1</td>\n      <td>1836.78</td>\n      <td>044061</td>\n      <td>...</td>\n      <td>27409</td>\n      <td>USA</td>\n      <td>NaN</td>\n      <td>INDUS</td>\n      <td>NET 30 DAYS</td>\n      <td>Ex-Works Export</td>\n      <td>18c4ec41-6155-4434-8836-8aadaf9a43d8</td>\n      <td>68348-1</td>\n      <td>001i000000LRvQ4AAL</td>\n      <td>0050H00000AFeKeQAL</td>\n    </tr>\n    <tr>\n      <th>7656</th>\n      <td>68349</td>\n      <td>1</td>\n      <td>761048</td>\n      <td>2020-02-28</td>\n      <td>New</td>\n      <td>1</td>\n      <td>PIDA</td>\n      <td>A8ET2116</td>\n      <td>70273.32</td>\n      <td>044062</td>\n      <td>...</td>\n      <td>28110</td>\n      <td>USA</td>\n      <td>NaN</td>\n      <td>INDUS</td>\n      <td>NET 30 DAYS</td>\n      <td>Ex-Works Export</td>\n      <td>356044c1-fe09-4cd6-b402-d9321e5f32f4</td>\n      <td>68349-1</td>\n      <td>001i000000LRvQ4AAL</td>\n      <td>0050H00000AFeKeQAL</td>\n    </tr>\n    <tr>\n      <th>7657</th>\n      <td>68349</td>\n      <td>2</td>\n      <td>761049</td>\n      <td>2020-02-28</td>\n      <td>New</td>\n      <td>1</td>\n      <td>PIDE</td>\n      <td>A8ET2116</td>\n      <td>70.38</td>\n      <td>044062</td>\n      <td>...</td>\n      <td>28110</td>\n      <td>USA</td>\n      <td>NaN</td>\n      <td>INDUS</td>\n      <td>NET 30 DAYS</td>\n      <td>Ex-Works Export</td>\n      <td>c9831ad8-2614-4633-ab18-87e3d9d29eb8</td>\n      <td>68349-2</td>\n      <td>001i000000LRvQ4AAL</td>\n      <td>0050H00000AFeKeQAL</td>\n    </tr>\n    <tr>\n      <th>7658</th>\n      <td>68349</td>\n      <td>3</td>\n      <td>761050</td>\n      <td>2020-02-28</td>\n      <td>New</td>\n      <td>1</td>\n      <td>PIDE</td>\n      <td>A8ET2116</td>\n      <td>70.38</td>\n      <td>044062</td>\n      <td>...</td>\n      <td>28110</td>\n      <td>USA</td>\n      <td>NaN</td>\n      <td>INDUS</td>\n      <td>NET 30 DAYS</td>\n      <td>Ex-Works Export</td>\n      <td>57511a2b-c58f-47f8-978a-e63874d13565</td>\n      <td>68349-3</td>\n      <td>001i000000LRvQ4AAL</td>\n      <td>0050H00000AFeKeQAL</td>\n    </tr>\n    <tr>\n      <th>7659</th>\n      <td>68349</td>\n      <td>4</td>\n      <td>761051</td>\n      <td>2020-02-28</td>\n      <td>New</td>\n      <td>1</td>\n      <td>PIDE</td>\n      <td>A8ET2116</td>\n      <td>182.16</td>\n      <td>044062</td>\n      <td>...</td>\n      <td>28110</td>\n      <td>USA</td>\n      <td>NaN</td>\n      <td>INDUS</td>\n      <td>NET 30 DAYS</td>\n      <td>Ex-Works Export</td>\n      <td>97e8bb26-3d8f-47cd-96fc-f96d8f8e8395</td>\n      <td>68349-4</td>\n      <td>001i000000LRvQ4AAL</td>\n      <td>0050H00000AFeKeQAL</td>\n    </tr>\n  </tbody>\n</table>\n<p>7660 rows × 46 columns</p>\n</div>"
     },
     "metadata": {},
     "execution_count": 18
    }
   ],
   "source": [
    "bookings_df"
   ]
  },
  {
   "cell_type": "code",
   "execution_count": null,
   "metadata": {},
   "outputs": [],
   "source": []
  }
 ]
}