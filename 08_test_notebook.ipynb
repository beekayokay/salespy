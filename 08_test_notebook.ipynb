{
 "nbformat": 4,
 "nbformat_minor": 2,
 "metadata": {
  "language_info": {
   "name": "python",
   "codemirror_mode": {
    "name": "ipython",
    "version": 3
   },
   "version": "3.8.1-final"
  },
  "orig_nbformat": 2,
  "file_extension": ".py",
  "mimetype": "text/x-python",
  "name": "python",
  "npconvert_exporter": "python",
  "pygments_lexer": "ipython3",
  "version": 3,
  "kernelspec": {
   "name": "python38164bitsalespycondabaa4ad19ede0484f890b3fb0b6c944d1",
   "display_name": "Python 3.8.1 64-bit ('salespy': conda)"
  }
 },
 "cells": [
  {
   "cell_type": "code",
   "execution_count": 1,
   "metadata": {},
   "outputs": [],
   "source": [
    "# imports\n",
    "import os\n",
    "\n",
    "import numpy as np\n",
    "import pandas as pd"
   ]
  },
  {
   "cell_type": "code",
   "execution_count": 2,
   "metadata": {},
   "outputs": [],
   "source": [
    "# read excel file\n",
    "\n",
    "directory = '/Users/beekayokay/OneDrive/Projects/Salesforce Epicor Integration/'\n",
    "file_name = 'test_bookings_df.xlsx'"
   ]
  },
  {
   "cell_type": "code",
   "execution_count": 3,
   "metadata": {},
   "outputs": [],
   "source": [
    "bookings_df = pd.read_excel(\n",
    "    os.path.join(directory, file_name),\n",
    "    dtype={\n",
    "        'Book Date': 'datetime64[D]',\n",
    "        'Need By Date': 'datetime64[D]',\n",
    "        'Quote Num': 'object',\n",
    "        'Quote Line': 'object'\n",
    "    }\n",
    ")"
   ]
  },
  {
   "cell_type": "code",
   "execution_count": 31,
   "metadata": {},
   "outputs": [
    {
     "output_type": "execute_result",
     "data": {
      "text/plain": "   Tran Num  Book Date BookType  OrderNum  OrderLn  OrderRel Prod Code  \\\n0      4649 2003-10-02      New      1000        1         1      AIIE   \n1      4650 2003-12-30     Void      1000        1         1      AIIE   \n2      4651 2003-10-02      New      1001        1         1      AIKE   \n3      4652 2003-10-02      New      1002        1         1      AICE   \n4      4653 2003-12-19      Chg      1002        1         1      AICE   \n\n           SN  Order Line Amt             PO Num  ... ShipTo.Address3  \\\n0   E110042-3         99000.0      A009-41003 R1  ...             NaN   \n1   E110042-3        -99000.0      A009-41003 R1  ...             NaN   \n2    E211900B        496000.0  02USSHY26SPEC2201  ...             NaN   \n3  E311603B-1        962000.0         SMJR2BOO11  ...             NaN   \n4  E311603B-1       -962000.0         SMJR2BOO11  ...             NaN   \n\n  ShipTo.City ShipTo.State ShipTo.ZIP ShipTo.Country Packager Market Segment  \\\n0         NaN          NaN        NaN      INDONESIA      NaN            NaN   \n1         NaN          NaN        NaN      INDONESIA      NaN            NaN   \n2     BEIJING          NaN     100101          CHINA      NaN          INDUS   \n3   AL-JUBAIL          NaN      31961   SAUDI ARABIA      NaN            ENG   \n4   AL-JUBAIL          NaN      31961   SAUDI ARABIA      NaN            ENG   \n\n     Payment Terms     OrderHed.FOB                              SysRowID  \n0  XLETTER OF CRED      C&F JAKARTA  92059e56-e620-40ac-e111-e6c2e1812162  \n1  XLETTER OF CRED      C&F JAKARTA  92059e56-e620-40ac-e111-e6c2e2812162  \n2      NET 45 DAYS      FOB NY PORT  92059e56-e620-40ac-e111-e6c2e3812162  \n3  PROGRESS PMT 45  FOB PORT NEW YK  92059e56-e620-40ac-e111-e6c2e4812162  \n4  PROGRESS PMT 45  FOB PORT NEW YK  92059e56-e620-40ac-e111-e6c2e5812162  \n\n[5 rows x 43 columns]",
      "text/html": "<div>\n<style scoped>\n    .dataframe tbody tr th:only-of-type {\n        vertical-align: middle;\n    }\n\n    .dataframe tbody tr th {\n        vertical-align: top;\n    }\n\n    .dataframe thead th {\n        text-align: right;\n    }\n</style>\n<table border=\"1\" class=\"dataframe\">\n  <thead>\n    <tr style=\"text-align: right;\">\n      <th></th>\n      <th>Tran Num</th>\n      <th>Book Date</th>\n      <th>BookType</th>\n      <th>OrderNum</th>\n      <th>OrderLn</th>\n      <th>OrderRel</th>\n      <th>Prod Code</th>\n      <th>SN</th>\n      <th>Order Line Amt</th>\n      <th>PO Num</th>\n      <th>...</th>\n      <th>ShipTo.Address3</th>\n      <th>ShipTo.City</th>\n      <th>ShipTo.State</th>\n      <th>ShipTo.ZIP</th>\n      <th>ShipTo.Country</th>\n      <th>Packager</th>\n      <th>Market Segment</th>\n      <th>Payment Terms</th>\n      <th>OrderHed.FOB</th>\n      <th>SysRowID</th>\n    </tr>\n  </thead>\n  <tbody>\n    <tr>\n      <th>0</th>\n      <td>4649</td>\n      <td>2003-10-02</td>\n      <td>New</td>\n      <td>1000</td>\n      <td>1</td>\n      <td>1</td>\n      <td>AIIE</td>\n      <td>E110042-3</td>\n      <td>99000.0</td>\n      <td>A009-41003 R1</td>\n      <td>...</td>\n      <td>NaN</td>\n      <td>NaN</td>\n      <td>NaN</td>\n      <td>NaN</td>\n      <td>INDONESIA</td>\n      <td>NaN</td>\n      <td>NaN</td>\n      <td>XLETTER OF CRED</td>\n      <td>C&amp;F JAKARTA</td>\n      <td>92059e56-e620-40ac-e111-e6c2e1812162</td>\n    </tr>\n    <tr>\n      <th>1</th>\n      <td>4650</td>\n      <td>2003-12-30</td>\n      <td>Void</td>\n      <td>1000</td>\n      <td>1</td>\n      <td>1</td>\n      <td>AIIE</td>\n      <td>E110042-3</td>\n      <td>-99000.0</td>\n      <td>A009-41003 R1</td>\n      <td>...</td>\n      <td>NaN</td>\n      <td>NaN</td>\n      <td>NaN</td>\n      <td>NaN</td>\n      <td>INDONESIA</td>\n      <td>NaN</td>\n      <td>NaN</td>\n      <td>XLETTER OF CRED</td>\n      <td>C&amp;F JAKARTA</td>\n      <td>92059e56-e620-40ac-e111-e6c2e2812162</td>\n    </tr>\n    <tr>\n      <th>2</th>\n      <td>4651</td>\n      <td>2003-10-02</td>\n      <td>New</td>\n      <td>1001</td>\n      <td>1</td>\n      <td>1</td>\n      <td>AIKE</td>\n      <td>E211900B</td>\n      <td>496000.0</td>\n      <td>02USSHY26SPEC2201</td>\n      <td>...</td>\n      <td>NaN</td>\n      <td>BEIJING</td>\n      <td>NaN</td>\n      <td>100101</td>\n      <td>CHINA</td>\n      <td>NaN</td>\n      <td>INDUS</td>\n      <td>NET 45 DAYS</td>\n      <td>FOB NY PORT</td>\n      <td>92059e56-e620-40ac-e111-e6c2e3812162</td>\n    </tr>\n    <tr>\n      <th>3</th>\n      <td>4652</td>\n      <td>2003-10-02</td>\n      <td>New</td>\n      <td>1002</td>\n      <td>1</td>\n      <td>1</td>\n      <td>AICE</td>\n      <td>E311603B-1</td>\n      <td>962000.0</td>\n      <td>SMJR2BOO11</td>\n      <td>...</td>\n      <td>NaN</td>\n      <td>AL-JUBAIL</td>\n      <td>NaN</td>\n      <td>31961</td>\n      <td>SAUDI ARABIA</td>\n      <td>NaN</td>\n      <td>ENG</td>\n      <td>PROGRESS PMT 45</td>\n      <td>FOB PORT NEW YK</td>\n      <td>92059e56-e620-40ac-e111-e6c2e4812162</td>\n    </tr>\n    <tr>\n      <th>4</th>\n      <td>4653</td>\n      <td>2003-12-19</td>\n      <td>Chg</td>\n      <td>1002</td>\n      <td>1</td>\n      <td>1</td>\n      <td>AICE</td>\n      <td>E311603B-1</td>\n      <td>-962000.0</td>\n      <td>SMJR2BOO11</td>\n      <td>...</td>\n      <td>NaN</td>\n      <td>AL-JUBAIL</td>\n      <td>NaN</td>\n      <td>31961</td>\n      <td>SAUDI ARABIA</td>\n      <td>NaN</td>\n      <td>ENG</td>\n      <td>PROGRESS PMT 45</td>\n      <td>FOB PORT NEW YK</td>\n      <td>92059e56-e620-40ac-e111-e6c2e5812162</td>\n    </tr>\n  </tbody>\n</table>\n<p>5 rows × 43 columns</p>\n</div>"
     },
     "metadata": {},
     "execution_count": 31
    }
   ],
   "source": [
    "bookings_df.head()"
   ]
  },
  {
   "cell_type": "code",
   "execution_count": 35,
   "metadata": {},
   "outputs": [],
   "source": [
    "# sort and modify values\n",
    "\n",
    "bookings_df.sort_values(\n",
    "    by=['OrderNum', 'OrderLn', 'OrderRel'],\n",
    "    ascending=True,\n",
    "    inplace=True\n",
    ")\n",
    "\n",
    "bookings_df.loc[bookings_df['Quote Num'] == 0, 'Quote Num'] = np.nan\n",
    "bookings_df.loc[bookings_df['Quote Line'] == 0, 'Quote Line'] = np.nan"
   ]
  },
  {
   "cell_type": "code",
   "execution_count": 62,
   "metadata": {},
   "outputs": [
    {
     "output_type": "execute_result",
     "data": {
      "text/plain": "(224475, 3)"
     },
     "metadata": {},
     "execution_count": 62
    }
   ],
   "source": [
    "df1 = bookings_df[['OrderNum', 'OrderLn', 'OrderRel']].copy()\n",
    "df1.drop_duplicates(\n",
    "    subset=['OrderNum', 'OrderLn'],\n",
    "    keep='last', inplace=True,\n",
    ")\n",
    "df1.shape"
   ]
  },
  {
   "cell_type": "code",
   "execution_count": 63,
   "metadata": {},
   "outputs": [
    {
     "output_type": "execute_result",
     "data": {
      "text/plain": "(224475, 3)"
     },
     "metadata": {},
     "execution_count": 63
    }
   ],
   "source": [
    "df2 = bookings_df[['OrderNum', 'OrderLn', 'OrderRel']].copy()\n",
    "df2.drop_duplicates(inplace=True, keep='first')\n",
    "df2 = df2.groupby(\n",
    "    ['OrderNum', 'OrderLn'],\n",
    "    as_index=False\n",
    ").agg(\n",
    "    {'OrderRel': 'count'}\n",
    ")\n",
    "df2.shape"
   ]
  },
  {
   "cell_type": "code",
   "execution_count": 64,
   "metadata": {},
   "outputs": [],
   "source": [
    "df1.to_excel('df1.xlsx')\n",
    "df2.to_excel('df2.xlsx')"
   ]
  },
  {
   "cell_type": "code",
   "execution_count": null,
   "metadata": {},
   "outputs": [],
   "source": []
  },
  {
   "cell_type": "code",
   "execution_count": 26,
   "metadata": {},
   "outputs": [
    {
     "output_type": "execute_result",
     "data": {
      "text/plain": "(345868, 43)"
     },
     "metadata": {},
     "execution_count": 26
    }
   ],
   "source": [
    "# check current\n",
    "\n",
    "bookings_df.shape"
   ]
  },
  {
   "cell_type": "code",
   "execution_count": 27,
   "metadata": {},
   "outputs": [
    {
     "output_type": "execute_result",
     "data": {
      "text/plain": "(224475, 2)"
     },
     "metadata": {},
     "execution_count": 27
    }
   ],
   "source": [
    "# deduped order/line check for later\n",
    "\n",
    "order_line_df = bookings_df[['OrderNum', 'OrderLn']]\n",
    "order_line_df.drop_duplicates(inplace=True)\n",
    "order_line_df.shape"
   ]
  },
  {
   "cell_type": "code",
   "execution_count": 28,
   "metadata": {},
   "outputs": [
    {
     "output_type": "stream",
     "name": "stdout",
     "text": "Duplicated Rows: 11572\nDeduped Rows: 334296\n"
    }
   ],
   "source": [
    "# take out duplicated rows due to OrderRel field\n",
    "\n",
    "dup_ind = bookings_df[['Tran Num', 'OrderNum', 'OrderLn']].duplicated(keep='first')\n",
    "print(f'Duplicated Rows: {len(bookings_df.loc[dup_ind,:])}')\n",
    "print(f'Deduped Rows: {len(bookings_df.loc[~dup_ind,:])}')\n",
    "bookings_df = bookings_df.loc[~dup_ind,:]"
   ]
  },
  {
   "cell_type": "code",
   "execution_count": 29,
   "metadata": {},
   "outputs": [],
   "source": [
    "# modify DataFrame and preview dtypes\n",
    "bookings_df.sort_values(\n",
    "    by=['Tran Num'],\n",
    "    ascending=True,\n",
    "    inplace=True\n",
    ")"
   ]
  },
  {
   "cell_type": "code",
   "execution_count": 48,
   "metadata": {},
   "outputs": [],
   "source": [
    "bookings_df.rename(\n",
    "    columns = {\n",
    "        'Tran Num': 'Name',\n",
    "        'Book Date': 'Book_Date__c',\n",
    "        'BookType': 'BookType__c',\n",
    "        'OrderNum': 'OrderNum__c',\n",
    "        'OrderLn': 'OrderLn__c',\n",
    "        'OrderRel': 'OrderRel__c',\n",
    "        'Prod Code': 'Prod_Code__c',\n",
    "        'SN': 'SN__c',\n",
    "        'Order Line Amt': 'Order_Line_Amt__c',\n",
    "        'PO Num': 'PO_Num__c',\n",
    "        'Need By Date': 'Need_By_Date__c',\n",
    "        'Quote Num': 'Quote_Num__c',\n",
    "        'Quote Line': 'Quote_Line__c',\n",
    "        'Sales Representative': 'Sales_Representative__c',\n",
    "        'Salesperson': 'Salesperson__c',\n",
    "        'Primary Salesperson Origin': 'Primary_Salesperson_Origin__c',\n",
    "        'Sales Director Origin': 'Sales_Director_Origin__c',\n",
    "        'Regional Sales Manager Origin': 'Regional_Sales_Manager_Origin__c',\n",
    "        'Cust. ID': 'Cust_ID__c',\n",
    "        'Customer Name': 'Customer_Name__c',\n",
    "        'Ultimate User': 'Ultimate_User__c',\n",
    "        'Bill To Name': 'Bill_To_Name__c',\n",
    "        'Bill To  Address': 'Bill_To_Address_1__c',\n",
    "        'Bill To Address2': 'Bill_To_Address_2__c',\n",
    "        'Bill To Address3': 'Bill_To_Address_3__c',\n",
    "        'Bill To  Address.1': 'Bill_To_City__c',\n",
    "        'Bill To State': 'Bill_To_State__c',\n",
    "        'Bill To Zip': 'Bill_To_Zip__c',\n",
    "        'Bill To Country': 'Bill_To_Country__c',\n",
    "        'ShipToNum': 'Ship_To_Num__c',\n",
    "        'ShipTo.Name': 'Ship_To_Name__c',\n",
    "        'ShipTo.Address1': 'Ship_To_Address_1__c',\n",
    "        'ShipTo.Address2': 'Ship_To_Address_2__c',\n",
    "        'ShipTo.Address3': 'Ship_To_Address_3__c',\n",
    "        'ShipTo.City': 'Ship_To_City__c',\n",
    "        'ShipTo.State': 'Ship_To_State__c',\n",
    "        'ShipTo.ZIP': 'Ship_To_Zip__c',\n",
    "        'ShipTo.Country': 'Ship_To_Country__c',\n",
    "        'Packager': 'Packager__c',\n",
    "        'Market Segment': 'Market_Segment__c',\n",
    "        'Payment Terms': 'Payment_Terms__c',\n",
    "        'OrderHed.FOB': 'OrderHed_FOB__c',\n",
    "        'SysRowID': 'SysRowID__c'\n",
    "    },\n",
    "    inplace = True\n",
    ")"
   ]
  },
  {
   "cell_type": "code",
   "execution_count": 53,
   "metadata": {},
   "outputs": [],
   "source": [
    "bookings_df_grouped = bookings_df.groupby(\n",
    "    ['OrderNum__c', 'OrderLn__c']\n",
    ").agg({\n",
    "    'Name': 'last',\n",
    "    'Book_Date__c': 'last',\n",
    "    'BookType__c': 'last',\n",
    "    'OrderRel__c': 'last',\n",
    "    'Prod_Code__c': 'last',\n",
    "    'SN__c': 'first',\n",
    "    'Order_Line_Amt__c': 'sum',\n",
    "    'PO_Num__c': 'first',\n",
    "    'Need_By_Date__c': 'last',\n",
    "    'Quote_Num__c': 'first',\n",
    "    'Quote_Line__c': 'first',\n",
    "    'Sales_Representative__c': 'first',\n",
    "    'Salesperson__c': 'first',\n",
    "    'Primary_Salesperson_Origin__c': 'first',\n",
    "    'Sales_Director_Origin__c': 'first',\n",
    "    'Regional_Sales_Manager_Origin__c': 'first',\n",
    "    'Cust_ID__c': 'first',\n",
    "    'Customer_Name__c': 'first',\n",
    "    'Ultimate_User__c': 'first',\n",
    "    'Bill_To_Name__c': 'first',\n",
    "    'Bill_To_Address_1__c': 'first',\n",
    "    'Bill_To_Address_2__c': 'first',\n",
    "    'Bill_To_Address_3__c': 'first',\n",
    "    'Bill_To_City__c': 'first',\n",
    "    'Bill_To_State__c': 'first',\n",
    "    'Bill_To_Zip__c': 'first',\n",
    "    'Bill_To_Country__c': 'first',\n",
    "    'Ship_To_Num__c': 'first',\n",
    "    'Ship_To_Name__c': 'first',\n",
    "    'Ship_To_Address_1__c': 'first',\n",
    "    'Ship_To_Address_2__c': 'first',\n",
    "    'Ship_To_Address_3__c': 'first',\n",
    "    'Ship_To_City__c': 'first',\n",
    "    'Ship_To_State__c': 'first',\n",
    "    'Ship_To_Zip__c': 'first',\n",
    "    'Ship_To_Country__c': 'first',\n",
    "    'Packager__c': 'first',\n",
    "    'Market_Segment__c': 'first',\n",
    "    'Payment_Terms__c': 'first',\n",
    "    'OrderHed_FOB__c': 'first',\n",
    "    'SysRowID__c': 'last'\n",
    "})"
   ]
  },
  {
   "cell_type": "code",
   "execution_count": 54,
   "metadata": {},
   "outputs": [
    {
     "output_type": "execute_result",
     "data": {
      "text/plain": "                          Name Book_Date__c BookType__c  OrderRel__c  \\\nOrderNum__c OrderLn__c                                                 \n1000        1             4650   2003-12-30        Void            1   \n1001        1             4651   2003-10-02         New            1   \n1002        1             4654   2003-12-19         Chg            1   \n            2             4659   2003-12-19         Chg            1   \n            3             4662   2003-12-19         Chg            1   \n...                        ...          ...         ...          ...   \n68348       1           761047   2020-02-28         New            1   \n68349       1           761048   2020-02-28         New            1   \n            2           761049   2020-02-28         New            1   \n            3           761050   2020-02-28         New            1   \n            4           761051   2020-02-28         New            1   \n\n                       Prod_Code__c        SN__c  Order_Line_Amt__c  \\\nOrderNum__c OrderLn__c                                                \n1000        1                  AIIE    E110042-3               0.00   \n1001        1                  AIKE     E211900B          496000.00   \n1002        1                  AICE   E311603B-1          320666.67   \n            2                  AICE   E311603B-2          320666.67   \n            3                  AICE   E311603B-3          320666.66   \n...                             ...          ...                ...   \n68348       1                  PIDE  B5EU2E039-1            1836.78   \n68349       1                  PIDA     A8ET2116           70273.32   \n            2                  PIDE     A8ET2116              70.38   \n            3                  PIDE     A8ET2116              70.38   \n            4                  PIDE     A8ET2116             182.16   \n\n                                PO_Num__c Need_By_Date__c  Quote_Num__c  ...  \\\nOrderNum__c OrderLn__c                                                   ...   \n1000        1               A009-41003 R1      2002-06-05           NaN  ...   \n1001        1           02USSHY26SPEC2201      2003-09-01           NaN  ...   \n1002        1                  SMJR2BOO11      2003-10-17           NaN  ...   \n            2                  SMJR2BOO11      2003-10-17           NaN  ...   \n            3                  SMJR2BOO11      2003-10-17           NaN  ...   \n...                                   ...             ...           ...  ...   \n68348       1                      044061      2020-03-20       61711.0  ...   \n68349       1                      044062      2020-03-27           NaN  ...   \n            2                      044062      2020-03-27           NaN  ...   \n            3                      044062      2020-03-27           NaN  ...   \n            4                      044062      2020-03-27           NaN  ...   \n\n                        Ship_To_Address_3__c Ship_To_City__c Ship_To_State__c  \\\nOrderNum__c OrderLn__c                                                          \n1000        1                            NaN             NaN              NaN   \n1001        1                            NaN         BEIJING              NaN   \n1002        1                            NaN       AL-JUBAIL              NaN   \n            2                            NaN       AL-JUBAIL              NaN   \n            3                            NaN       AL-JUBAIL              NaN   \n...                                      ...             ...              ...   \n68348       1                            NaN      GREENSBORO               NC   \n68349       1                            NaN          MONROE               NC   \n            2                            NaN          MONROE               NC   \n            3                            NaN          MONROE               NC   \n            4                            NaN          MONROE               NC   \n\n                       Ship_To_Zip__c Ship_To_Country__c Packager__c  \\\nOrderNum__c OrderLn__c                                                 \n1000        1                     NaN          INDONESIA         NaN   \n1001        1                  100101              CHINA         NaN   \n1002        1                   31961       SAUDI ARABIA         NaN   \n            2                   31961       SAUDI ARABIA         NaN   \n            3                   31961       SAUDI ARABIA         NaN   \n...                               ...                ...         ...   \n68348       1                   27409                USA         NaN   \n68349       1                   28110                USA         NaN   \n            2                   28110                USA         NaN   \n            3                   28110                USA         NaN   \n            4                   28110                USA         NaN   \n\n                       Market_Segment__c Payment_Terms__c  OrderHed_FOB__c  \\\nOrderNum__c OrderLn__c                                                       \n1000        1                        NaN  XLETTER OF CRED      C&F JAKARTA   \n1001        1                      INDUS      NET 45 DAYS      FOB NY PORT   \n1002        1                        ENG  PROGRESS PMT 45  FOB PORT NEW YK   \n            2                        ENG  PROGRESS PMT 45  FOB PORT NEW YK   \n            3                        ENG  PROGRESS PMT 45  FOB PORT NEW YK   \n...                                  ...              ...              ...   \n68348       1                      INDUS      NET 30 DAYS  Ex-Works Export   \n68349       1                      INDUS      NET 30 DAYS  Ex-Works Export   \n            2                      INDUS      NET 30 DAYS  Ex-Works Export   \n            3                      INDUS      NET 30 DAYS  Ex-Works Export   \n            4                      INDUS      NET 30 DAYS  Ex-Works Export   \n\n                                                 SysRowID__c  \nOrderNum__c OrderLn__c                                        \n1000        1           92059e56-e620-40ac-e111-e6c2e2812162  \n1001        1           92059e56-e620-40ac-e111-e6c2e3812162  \n1002        1           92059e56-e620-40ac-e111-e6c2e6812162  \n            2           92059e56-e620-40ac-e111-e6c2eb812162  \n            3           92059e56-e620-40ac-e111-e6c2ee812162  \n...                                                      ...  \n68348       1           18c4ec41-6155-4434-8836-8aadaf9a43d8  \n68349       1           356044c1-fe09-4cd6-b402-d9321e5f32f4  \n            2           c9831ad8-2614-4633-ab18-87e3d9d29eb8  \n            3           57511a2b-c58f-47f8-978a-e63874d13565  \n            4           97e8bb26-3d8f-47cd-96fc-f96d8f8e8395  \n\n[224475 rows x 41 columns]",
      "text/html": "<div>\n<style scoped>\n    .dataframe tbody tr th:only-of-type {\n        vertical-align: middle;\n    }\n\n    .dataframe tbody tr th {\n        vertical-align: top;\n    }\n\n    .dataframe thead th {\n        text-align: right;\n    }\n</style>\n<table border=\"1\" class=\"dataframe\">\n  <thead>\n    <tr style=\"text-align: right;\">\n      <th></th>\n      <th></th>\n      <th>Name</th>\n      <th>Book_Date__c</th>\n      <th>BookType__c</th>\n      <th>OrderRel__c</th>\n      <th>Prod_Code__c</th>\n      <th>SN__c</th>\n      <th>Order_Line_Amt__c</th>\n      <th>PO_Num__c</th>\n      <th>Need_By_Date__c</th>\n      <th>Quote_Num__c</th>\n      <th>...</th>\n      <th>Ship_To_Address_3__c</th>\n      <th>Ship_To_City__c</th>\n      <th>Ship_To_State__c</th>\n      <th>Ship_To_Zip__c</th>\n      <th>Ship_To_Country__c</th>\n      <th>Packager__c</th>\n      <th>Market_Segment__c</th>\n      <th>Payment_Terms__c</th>\n      <th>OrderHed_FOB__c</th>\n      <th>SysRowID__c</th>\n    </tr>\n    <tr>\n      <th>OrderNum__c</th>\n      <th>OrderLn__c</th>\n      <th></th>\n      <th></th>\n      <th></th>\n      <th></th>\n      <th></th>\n      <th></th>\n      <th></th>\n      <th></th>\n      <th></th>\n      <th></th>\n      <th></th>\n      <th></th>\n      <th></th>\n      <th></th>\n      <th></th>\n      <th></th>\n      <th></th>\n      <th></th>\n      <th></th>\n      <th></th>\n      <th></th>\n    </tr>\n  </thead>\n  <tbody>\n    <tr>\n      <th>1000</th>\n      <th>1</th>\n      <td>4650</td>\n      <td>2003-12-30</td>\n      <td>Void</td>\n      <td>1</td>\n      <td>AIIE</td>\n      <td>E110042-3</td>\n      <td>0.00</td>\n      <td>A009-41003 R1</td>\n      <td>2002-06-05</td>\n      <td>NaN</td>\n      <td>...</td>\n      <td>NaN</td>\n      <td>NaN</td>\n      <td>NaN</td>\n      <td>NaN</td>\n      <td>INDONESIA</td>\n      <td>NaN</td>\n      <td>NaN</td>\n      <td>XLETTER OF CRED</td>\n      <td>C&amp;F JAKARTA</td>\n      <td>92059e56-e620-40ac-e111-e6c2e2812162</td>\n    </tr>\n    <tr>\n      <th>1001</th>\n      <th>1</th>\n      <td>4651</td>\n      <td>2003-10-02</td>\n      <td>New</td>\n      <td>1</td>\n      <td>AIKE</td>\n      <td>E211900B</td>\n      <td>496000.00</td>\n      <td>02USSHY26SPEC2201</td>\n      <td>2003-09-01</td>\n      <td>NaN</td>\n      <td>...</td>\n      <td>NaN</td>\n      <td>BEIJING</td>\n      <td>NaN</td>\n      <td>100101</td>\n      <td>CHINA</td>\n      <td>NaN</td>\n      <td>INDUS</td>\n      <td>NET 45 DAYS</td>\n      <td>FOB NY PORT</td>\n      <td>92059e56-e620-40ac-e111-e6c2e3812162</td>\n    </tr>\n    <tr>\n      <th rowspan=\"3\" valign=\"top\">1002</th>\n      <th>1</th>\n      <td>4654</td>\n      <td>2003-12-19</td>\n      <td>Chg</td>\n      <td>1</td>\n      <td>AICE</td>\n      <td>E311603B-1</td>\n      <td>320666.67</td>\n      <td>SMJR2BOO11</td>\n      <td>2003-10-17</td>\n      <td>NaN</td>\n      <td>...</td>\n      <td>NaN</td>\n      <td>AL-JUBAIL</td>\n      <td>NaN</td>\n      <td>31961</td>\n      <td>SAUDI ARABIA</td>\n      <td>NaN</td>\n      <td>ENG</td>\n      <td>PROGRESS PMT 45</td>\n      <td>FOB PORT NEW YK</td>\n      <td>92059e56-e620-40ac-e111-e6c2e6812162</td>\n    </tr>\n    <tr>\n      <th>2</th>\n      <td>4659</td>\n      <td>2003-12-19</td>\n      <td>Chg</td>\n      <td>1</td>\n      <td>AICE</td>\n      <td>E311603B-2</td>\n      <td>320666.67</td>\n      <td>SMJR2BOO11</td>\n      <td>2003-10-17</td>\n      <td>NaN</td>\n      <td>...</td>\n      <td>NaN</td>\n      <td>AL-JUBAIL</td>\n      <td>NaN</td>\n      <td>31961</td>\n      <td>SAUDI ARABIA</td>\n      <td>NaN</td>\n      <td>ENG</td>\n      <td>PROGRESS PMT 45</td>\n      <td>FOB PORT NEW YK</td>\n      <td>92059e56-e620-40ac-e111-e6c2eb812162</td>\n    </tr>\n    <tr>\n      <th>3</th>\n      <td>4662</td>\n      <td>2003-12-19</td>\n      <td>Chg</td>\n      <td>1</td>\n      <td>AICE</td>\n      <td>E311603B-3</td>\n      <td>320666.66</td>\n      <td>SMJR2BOO11</td>\n      <td>2003-10-17</td>\n      <td>NaN</td>\n      <td>...</td>\n      <td>NaN</td>\n      <td>AL-JUBAIL</td>\n      <td>NaN</td>\n      <td>31961</td>\n      <td>SAUDI ARABIA</td>\n      <td>NaN</td>\n      <td>ENG</td>\n      <td>PROGRESS PMT 45</td>\n      <td>FOB PORT NEW YK</td>\n      <td>92059e56-e620-40ac-e111-e6c2ee812162</td>\n    </tr>\n    <tr>\n      <th>...</th>\n      <th>...</th>\n      <td>...</td>\n      <td>...</td>\n      <td>...</td>\n      <td>...</td>\n      <td>...</td>\n      <td>...</td>\n      <td>...</td>\n      <td>...</td>\n      <td>...</td>\n      <td>...</td>\n      <td>...</td>\n      <td>...</td>\n      <td>...</td>\n      <td>...</td>\n      <td>...</td>\n      <td>...</td>\n      <td>...</td>\n      <td>...</td>\n      <td>...</td>\n      <td>...</td>\n      <td>...</td>\n    </tr>\n    <tr>\n      <th>68348</th>\n      <th>1</th>\n      <td>761047</td>\n      <td>2020-02-28</td>\n      <td>New</td>\n      <td>1</td>\n      <td>PIDE</td>\n      <td>B5EU2E039-1</td>\n      <td>1836.78</td>\n      <td>044061</td>\n      <td>2020-03-20</td>\n      <td>61711.0</td>\n      <td>...</td>\n      <td>NaN</td>\n      <td>GREENSBORO</td>\n      <td>NC</td>\n      <td>27409</td>\n      <td>USA</td>\n      <td>NaN</td>\n      <td>INDUS</td>\n      <td>NET 30 DAYS</td>\n      <td>Ex-Works Export</td>\n      <td>18c4ec41-6155-4434-8836-8aadaf9a43d8</td>\n    </tr>\n    <tr>\n      <th rowspan=\"4\" valign=\"top\">68349</th>\n      <th>1</th>\n      <td>761048</td>\n      <td>2020-02-28</td>\n      <td>New</td>\n      <td>1</td>\n      <td>PIDA</td>\n      <td>A8ET2116</td>\n      <td>70273.32</td>\n      <td>044062</td>\n      <td>2020-03-27</td>\n      <td>NaN</td>\n      <td>...</td>\n      <td>NaN</td>\n      <td>MONROE</td>\n      <td>NC</td>\n      <td>28110</td>\n      <td>USA</td>\n      <td>NaN</td>\n      <td>INDUS</td>\n      <td>NET 30 DAYS</td>\n      <td>Ex-Works Export</td>\n      <td>356044c1-fe09-4cd6-b402-d9321e5f32f4</td>\n    </tr>\n    <tr>\n      <th>2</th>\n      <td>761049</td>\n      <td>2020-02-28</td>\n      <td>New</td>\n      <td>1</td>\n      <td>PIDE</td>\n      <td>A8ET2116</td>\n      <td>70.38</td>\n      <td>044062</td>\n      <td>2020-03-27</td>\n      <td>NaN</td>\n      <td>...</td>\n      <td>NaN</td>\n      <td>MONROE</td>\n      <td>NC</td>\n      <td>28110</td>\n      <td>USA</td>\n      <td>NaN</td>\n      <td>INDUS</td>\n      <td>NET 30 DAYS</td>\n      <td>Ex-Works Export</td>\n      <td>c9831ad8-2614-4633-ab18-87e3d9d29eb8</td>\n    </tr>\n    <tr>\n      <th>3</th>\n      <td>761050</td>\n      <td>2020-02-28</td>\n      <td>New</td>\n      <td>1</td>\n      <td>PIDE</td>\n      <td>A8ET2116</td>\n      <td>70.38</td>\n      <td>044062</td>\n      <td>2020-03-27</td>\n      <td>NaN</td>\n      <td>...</td>\n      <td>NaN</td>\n      <td>MONROE</td>\n      <td>NC</td>\n      <td>28110</td>\n      <td>USA</td>\n      <td>NaN</td>\n      <td>INDUS</td>\n      <td>NET 30 DAYS</td>\n      <td>Ex-Works Export</td>\n      <td>57511a2b-c58f-47f8-978a-e63874d13565</td>\n    </tr>\n    <tr>\n      <th>4</th>\n      <td>761051</td>\n      <td>2020-02-28</td>\n      <td>New</td>\n      <td>1</td>\n      <td>PIDE</td>\n      <td>A8ET2116</td>\n      <td>182.16</td>\n      <td>044062</td>\n      <td>2020-03-27</td>\n      <td>NaN</td>\n      <td>...</td>\n      <td>NaN</td>\n      <td>MONROE</td>\n      <td>NC</td>\n      <td>28110</td>\n      <td>USA</td>\n      <td>NaN</td>\n      <td>INDUS</td>\n      <td>NET 30 DAYS</td>\n      <td>Ex-Works Export</td>\n      <td>97e8bb26-3d8f-47cd-96fc-f96d8f8e8395</td>\n    </tr>\n  </tbody>\n</table>\n<p>224475 rows × 41 columns</p>\n</div>"
     },
     "metadata": {},
     "execution_count": 54
    }
   ],
   "source": [
    "bookings_df_grouped"
   ]
  },
  {
   "cell_type": "code",
   "execution_count": 55,
   "metadata": {},
   "outputs": [],
   "source": [
    "bookings_df_grouped.to_csv(os.path.join(directory, 'group_test.csv'))"
   ]
  },
  {
   "cell_type": "code",
   "execution_count": null,
   "metadata": {},
   "outputs": [],
   "source": []
  }
 ]
}