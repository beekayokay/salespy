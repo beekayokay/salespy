{
 "nbformat": 4,
 "nbformat_minor": 2,
 "metadata": {
  "language_info": {
   "name": "python",
   "codemirror_mode": {
    "name": "ipython",
    "version": 3
   },
   "version": "3.8.1-final"
  },
  "orig_nbformat": 2,
  "file_extension": ".py",
  "mimetype": "text/x-python",
  "name": "python",
  "npconvert_exporter": "python",
  "pygments_lexer": "ipython3",
  "version": 3,
  "kernelspec": {
   "name": "python38164bitsalespycondabaa4ad19ede0484f890b3fb0b6c944d1",
   "display_name": "Python 3.8.1 64-bit ('salespy': conda)"
  }
 },
 "cells": [
  {
   "cell_type": "code",
   "execution_count": 1,
   "metadata": {},
   "outputs": [
    {
     "output_type": "stream",
     "name": "stdout",
     "text": "--- Logged Into Salesforce ---\n--- Merged Files: 1261577 ---\n"
    }
   ],
   "source": [
    "import os\n",
    "import shutil\n",
    "\n",
    "import pandas as pd\n",
    "from salespy import SalesforceClass, EpicorClass\n",
    "\n",
    "# login to Salesforce & get credentials\n",
    "sf = SalesforceClass(\n",
    "    username='bko@fs-elliott.com.test', sandbox='test',\n",
    "    org_id='00D7A0000009Kmw'\n",
    ")\n",
    "creds = sf.login()\n",
    "print(f'--- Logged Into Salesforce ---')\n",
    "\n",
    "# epicor file directory\n",
    "directory = (\n",
    "    '/Users/beekayokay/OneDrive/Projects/'\n",
    "    'Salesforce Epicor Integration/E10 Reports To Upload'\n",
    ")\n",
    "\n",
    "# loop through epicor files and merge\n",
    "count = 0\n",
    "epicor = EpicorClass()\n",
    "bookings_df = pd.DataFrame()\n",
    "for each in os.listdir(directory):\n",
    "    temp_df = pd.DataFrame()\n",
    "    if each == '.DS_Store':\n",
    "        continue\n",
    "    try:\n",
    "        temp_df = epicor.bookings_to_df(os.path.join(directory, each))\n",
    "        bookings_df = bookings_df.append(temp_df, ignore_index=True)\n",
    "    except IsADirectoryError:\n",
    "        continue\n",
    "print(f'--- Merged Files: {bookings_df.size} ---')"
   ]
  },
  {
   "cell_type": "code",
   "execution_count": 2,
   "metadata": {},
   "outputs": [],
   "source": [
    "bookings_df.sort_values(by='Tran Num', inplace=True)"
   ]
  },
  {
   "cell_type": "code",
   "execution_count": 3,
   "metadata": {},
   "outputs": [
    {
     "output_type": "execute_result",
     "data": {
      "text/plain": "       Book Date BookType  OrderNum  OrderLn  OrderRel Prod Code         SN  \\\n14672 2019-06-13      New     65337        1         1      AP4X  B9EU2E066   \n25865 2020-01-08      Chg     65337        1         1      AP4X  B9EU2E066   \n25866 2020-01-08      Chg     65337        1         1      AP4X  B9EU2E066   \n\n       Order Line Amt     PO Num Need By Date  ...  ShipTo.City  ShipTo.State  \\\n14672        206156.0  42219NH-2   2020-01-10  ...     ROCKWOOD            MI   \n25865       -206156.0  42219NH-2   2020-01-10  ...     ROCKWOOD            MI   \n25866        212556.0  42219NH-2   2020-01-10  ...     ROCKWOOD            MI   \n\n      ShipTo.ZIP ShipTo.Country Packager Market Segment    Payment Terms  \\\n14672      48173            USA      FSE          INDUS  PROGRESS PMT 30   \n25865      48173            USA      FSE          INDUS  PROGRESS PMT 30   \n25866      48173            USA      FSE          INDUS  PROGRESS PMT 30   \n\n          OrderHed.FOB Tran Num                              SysRowID  \n14672  Ex-Works Export   745909  21bb4601-13bf-42ec-a8f6-ade721d42b23  \n25865  Ex-Works Export   758163  047ce36f-8dd9-4a67-8ecb-729a0ab6356b  \n25866  Ex-Works Export   758164  c79b534a-a976-4706-8f6b-4f15f3645e48  \n\n[3 rows x 43 columns]",
      "text/html": "<div>\n<style scoped>\n    .dataframe tbody tr th:only-of-type {\n        vertical-align: middle;\n    }\n\n    .dataframe tbody tr th {\n        vertical-align: top;\n    }\n\n    .dataframe thead th {\n        text-align: right;\n    }\n</style>\n<table border=\"1\" class=\"dataframe\">\n  <thead>\n    <tr style=\"text-align: right;\">\n      <th></th>\n      <th>Book Date</th>\n      <th>BookType</th>\n      <th>OrderNum</th>\n      <th>OrderLn</th>\n      <th>OrderRel</th>\n      <th>Prod Code</th>\n      <th>SN</th>\n      <th>Order Line Amt</th>\n      <th>PO Num</th>\n      <th>Need By Date</th>\n      <th>...</th>\n      <th>ShipTo.City</th>\n      <th>ShipTo.State</th>\n      <th>ShipTo.ZIP</th>\n      <th>ShipTo.Country</th>\n      <th>Packager</th>\n      <th>Market Segment</th>\n      <th>Payment Terms</th>\n      <th>OrderHed.FOB</th>\n      <th>Tran Num</th>\n      <th>SysRowID</th>\n    </tr>\n  </thead>\n  <tbody>\n    <tr>\n      <th>14672</th>\n      <td>2019-06-13</td>\n      <td>New</td>\n      <td>65337</td>\n      <td>1</td>\n      <td>1</td>\n      <td>AP4X</td>\n      <td>B9EU2E066</td>\n      <td>206156.0</td>\n      <td>42219NH-2</td>\n      <td>2020-01-10</td>\n      <td>...</td>\n      <td>ROCKWOOD</td>\n      <td>MI</td>\n      <td>48173</td>\n      <td>USA</td>\n      <td>FSE</td>\n      <td>INDUS</td>\n      <td>PROGRESS PMT 30</td>\n      <td>Ex-Works Export</td>\n      <td>745909</td>\n      <td>21bb4601-13bf-42ec-a8f6-ade721d42b23</td>\n    </tr>\n    <tr>\n      <th>25865</th>\n      <td>2020-01-08</td>\n      <td>Chg</td>\n      <td>65337</td>\n      <td>1</td>\n      <td>1</td>\n      <td>AP4X</td>\n      <td>B9EU2E066</td>\n      <td>-206156.0</td>\n      <td>42219NH-2</td>\n      <td>2020-01-10</td>\n      <td>...</td>\n      <td>ROCKWOOD</td>\n      <td>MI</td>\n      <td>48173</td>\n      <td>USA</td>\n      <td>FSE</td>\n      <td>INDUS</td>\n      <td>PROGRESS PMT 30</td>\n      <td>Ex-Works Export</td>\n      <td>758163</td>\n      <td>047ce36f-8dd9-4a67-8ecb-729a0ab6356b</td>\n    </tr>\n    <tr>\n      <th>25866</th>\n      <td>2020-01-08</td>\n      <td>Chg</td>\n      <td>65337</td>\n      <td>1</td>\n      <td>1</td>\n      <td>AP4X</td>\n      <td>B9EU2E066</td>\n      <td>212556.0</td>\n      <td>42219NH-2</td>\n      <td>2020-01-10</td>\n      <td>...</td>\n      <td>ROCKWOOD</td>\n      <td>MI</td>\n      <td>48173</td>\n      <td>USA</td>\n      <td>FSE</td>\n      <td>INDUS</td>\n      <td>PROGRESS PMT 30</td>\n      <td>Ex-Works Export</td>\n      <td>758164</td>\n      <td>c79b534a-a976-4706-8f6b-4f15f3645e48</td>\n    </tr>\n  </tbody>\n</table>\n<p>3 rows × 43 columns</p>\n</div>"
     },
     "metadata": {},
     "execution_count": 3
    }
   ],
   "source": [
    "bookings_df.loc[(bookings_df['OrderNum'] == 65337) & (bookings_df['OrderLn'] == 1)]"
   ]
  },
  {
   "cell_type": "code",
   "execution_count": 4,
   "metadata": {},
   "outputs": [
    {
     "output_type": "stream",
     "name": "stdout",
     "text": "--- Aggregated Data: 860332 ---\n"
    }
   ],
   "source": [
    "# aggregate df by OrderNum & OrderLn\n",
    "bookings_df = epicor.aggregate_df(bookings_df)\n",
    "print(f'--- Aggregated Data: {bookings_df.size} ---')"
   ]
  },
  {
   "cell_type": "code",
   "execution_count": 6,
   "metadata": {},
   "outputs": [
    {
     "output_type": "execute_result",
     "data": {
      "text/plain": "      OrderNum__c  OrderLn__c    Name Book_Date__c BookType__c  OrderRel__c  \\\n6548        65337           1  758164   2020-01-08         Chg            1   \n\n     Prod_Code__c      SN__c  Order_Line_Amt__c  PO_Num__c  ...  \\\n6548         AP4X  B9EU2E066           212556.0  42219NH-2  ...   \n\n     Ship_To_City__c  Ship_To_State__c  Ship_To_Zip__c Ship_To_Country__c  \\\n6548        ROCKWOOD                MI           48173                USA   \n\n     Packager__c Market_Segment__c Payment_Terms__c  OrderHed_FOB__c  \\\n6548         FSE             INDUS  PROGRESS PMT 30  Ex-Works Export   \n\n                               SysRowID__c Order_Num_Ln__c  \n6548  c79b534a-a976-4706-8f6b-4f15f3645e48         65337-1  \n\n[1 rows x 44 columns]",
      "text/html": "<div>\n<style scoped>\n    .dataframe tbody tr th:only-of-type {\n        vertical-align: middle;\n    }\n\n    .dataframe tbody tr th {\n        vertical-align: top;\n    }\n\n    .dataframe thead th {\n        text-align: right;\n    }\n</style>\n<table border=\"1\" class=\"dataframe\">\n  <thead>\n    <tr style=\"text-align: right;\">\n      <th></th>\n      <th>OrderNum__c</th>\n      <th>OrderLn__c</th>\n      <th>Name</th>\n      <th>Book_Date__c</th>\n      <th>BookType__c</th>\n      <th>OrderRel__c</th>\n      <th>Prod_Code__c</th>\n      <th>SN__c</th>\n      <th>Order_Line_Amt__c</th>\n      <th>PO_Num__c</th>\n      <th>...</th>\n      <th>Ship_To_City__c</th>\n      <th>Ship_To_State__c</th>\n      <th>Ship_To_Zip__c</th>\n      <th>Ship_To_Country__c</th>\n      <th>Packager__c</th>\n      <th>Market_Segment__c</th>\n      <th>Payment_Terms__c</th>\n      <th>OrderHed_FOB__c</th>\n      <th>SysRowID__c</th>\n      <th>Order_Num_Ln__c</th>\n    </tr>\n  </thead>\n  <tbody>\n    <tr>\n      <th>6548</th>\n      <td>65337</td>\n      <td>1</td>\n      <td>758164</td>\n      <td>2020-01-08</td>\n      <td>Chg</td>\n      <td>1</td>\n      <td>AP4X</td>\n      <td>B9EU2E066</td>\n      <td>212556.0</td>\n      <td>42219NH-2</td>\n      <td>...</td>\n      <td>ROCKWOOD</td>\n      <td>MI</td>\n      <td>48173</td>\n      <td>USA</td>\n      <td>FSE</td>\n      <td>INDUS</td>\n      <td>PROGRESS PMT 30</td>\n      <td>Ex-Works Export</td>\n      <td>c79b534a-a976-4706-8f6b-4f15f3645e48</td>\n      <td>65337-1</td>\n    </tr>\n  </tbody>\n</table>\n<p>1 rows × 44 columns</p>\n</div>"
     },
     "metadata": {},
     "execution_count": 6
    }
   ],
   "source": [
    "bookings_df.loc[(bookings_df['OrderNum__c'] == 65337) & (bookings_df['OrderLn__c'] == 1)]\n",
    ""
   ]
  },
  {
   "cell_type": "code",
   "execution_count": null,
   "metadata": {},
   "outputs": [],
   "source": []
  }
 ]
}