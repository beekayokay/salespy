{
 "nbformat": 4,
 "nbformat_minor": 2,
 "metadata": {
  "language_info": {
   "name": "python",
   "codemirror_mode": {
    "name": "ipython",
    "version": 3
   },
   "version": "3.8.1-final"
  },
  "orig_nbformat": 2,
  "file_extension": ".py",
  "mimetype": "text/x-python",
  "name": "python",
  "npconvert_exporter": "python",
  "pygments_lexer": "ipython3",
  "version": 3,
  "kernelspec": {
   "name": "python38164bitsalespycondabaa4ad19ede0484f890b3fb0b6c944d1",
   "display_name": "Python 3.8.1 64-bit ('salespy': conda)"
  }
 },
 "cells": [
  {
   "cell_type": "code",
   "execution_count": 1,
   "metadata": {
    "tags": [
     "outputPrepend"
    ]
   },
   "outputs": [
    {
     "output_type": "stream",
     "name": "stdout",
     "text": "--- Logged Into Salesforce ---\n"
    }
   ],
   "source": [
    "import os\n",
    "import shutil\n",
    "\n",
    "import pandas as pd\n",
    "from salespy import SalesforceClass, EpicorClass\n",
    "\n",
    "# login to Salesforce & get credentials\n",
    "sf = SalesforceClass(\n",
    "    username='bko@fs-elliott.com.test', sandbox='test',\n",
    "    org_id='00D7A0000009Kmw'\n",
    ")\n",
    "creds = sf.login()\n",
    "print(f'--- Logged Into Salesforce ---')\n",
    "\n",
    "# epicor file directory\n",
    "directory = (\n",
    "    '/Users/beekayokay/OneDrive/Projects/'\n",
    "    'Salesforce Epicor Integration/E10 Reports To Upload'\n",
    ")\n",
    "\n",
    "# loop through epicor files and merge\n",
    "count = 0\n",
    "epicor = EpicorClass()\n",
    "bookings_df = pd.DataFrame()\n",
    "for each in os.listdir(directory):\n",
    "    temp_df = pd.DataFrame()\n",
    "    if each == '.DS_Store':\n",
    "        continue\n",
    "    try:\n",
    "        temp_df = epicor.bookings_to_df(os.path.join(directory, each))\n",
    "        bookings_df = bookings_df.append(temp_df, ignore_index=True)\n",
    "    except IsADirectoryError:\n",
    "        continue\n",
    "bookings_df.sort_values(by=['Name'], ascending=True, inplace=True)\n",
    "bookings_df.drop_duplicates(inplace=True, keep='first')"
   ]
  },
  {
   "cell_type": "code",
   "execution_count": 5,
   "metadata": {},
   "outputs": [
    {
     "output_type": "execute_result",
     "data": {
      "text/plain": "(4631, 44)"
     },
     "metadata": {},
     "execution_count": 5
    }
   ],
   "source": [
    "bookings_df.shape"
   ]
  },
  {
   "cell_type": "code",
   "execution_count": 6,
   "metadata": {},
   "outputs": [
    {
     "output_type": "stream",
     "name": "stdout",
     "text": "--- Got Last Tran Num: 0 ---\n--- Removed Existing Epicor Data: 203764 ---\n"
    }
   ],
   "source": [
    "# get most recent Tran Num for filtering Epicor report\n",
    "last_tran_num = sf.get_last_tran(creds=creds)\n",
    "print(f'--- Got Last Tran Num: {last_tran_num} ---')\n",
    "\n",
    "# remove existing SFDC Tran Nums\n",
    "old_trans = bookings_df['Name'] <= last_tran_num\n",
    "bookings_df = bookings_df[~old_trans]\n",
    "print(f'--- Removed Existing Epicor Data: {bookings_df.size} ---')"
   ]
  },
  {
   "cell_type": "code",
   "execution_count": 7,
   "metadata": {},
   "outputs": [
    {
     "output_type": "execute_result",
     "data": {
      "text/plain": "(4631, 44)"
     },
     "metadata": {},
     "execution_count": 7
    }
   ],
   "source": [
    "bookings_df.shape"
   ]
  },
  {
   "cell_type": "code",
   "execution_count": 8,
   "metadata": {},
   "outputs": [
    {
     "output_type": "stream",
     "name": "stdout",
     "text": "--- Compiled Order Num Ln ---\n--- Got Matching SFDC Data: 0 ---\n--- Added FO & SN: 213026 ---\n"
    }
   ],
   "source": [
    "# get tuples of Order Num Ln\n",
    "order_num_ln = tuple(bookings_df['Order_Num_Ln__c'])\n",
    "print(f'--- Compiled Order Num Ln ---')\n",
    "\n",
    "# get Salesforce records to append\n",
    "sfdc_df = sf.get_epicor_trans(creds=creds, order_num_ln=order_num_ln)\n",
    "print(f'--- Got Matching SFDC Data: {sfdc_df.size} ---')\n",
    "\n",
    "# add fo and asset\n",
    "bookings_df = sf.add_sn_fo(creds=creds, df=bookings_df)\n",
    "bookings_df = sf.add_sn_asset(creds=creds, df=bookings_df)\n",
    "print(f'--- Added FO & SN: {bookings_df.size} ---')"
   ]
  },
  {
   "cell_type": "code",
   "execution_count": 9,
   "metadata": {},
   "outputs": [
    {
     "output_type": "execute_result",
     "data": {
      "text/plain": "(4631, 46)"
     },
     "metadata": {},
     "execution_count": 9
    }
   ],
   "source": [
    "bookings_df.shape"
   ]
  },
  {
   "cell_type": "code",
   "execution_count": 10,
   "metadata": {},
   "outputs": [
    {
     "output_type": "stream",
     "name": "stdout",
     "text": "--- Added CP & SL: 222288 ---\n"
    }
   ],
   "source": [
    "# add cp and sales lead\n",
    "bookings_df = sf.add_code_ref(creds=creds, df=bookings_df)\n",
    "print(f'--- Added CP & SL: {bookings_df.size} ---')"
   ]
  },
  {
   "cell_type": "code",
   "execution_count": 11,
   "metadata": {},
   "outputs": [
    {
     "output_type": "execute_result",
     "data": {
      "text/plain": "(4631, 48)"
     },
     "metadata": {},
     "execution_count": 11
    }
   ],
   "source": [
    "bookings_df.shape"
   ]
  },
  {
   "cell_type": "code",
   "execution_count": 12,
   "metadata": {},
   "outputs": [
    {
     "output_type": "stream",
     "name": "stdout",
     "text": "--- Merged DataFrames: 219552 ---\n"
    }
   ],
   "source": [
    "# merge DataFrames\n",
    "merged_df = epicor.merge_dfs(bookings_df, sfdc_df)\n",
    "print(f'--- Merged DataFrames: {merged_df.size} ---')"
   ]
  },
  {
   "cell_type": "code",
   "execution_count": 16,
   "metadata": {},
   "outputs": [
    {
     "output_type": "execute_result",
     "data": {
      "text/plain": "(4574, 48)"
     },
     "metadata": {},
     "execution_count": 16
    }
   ],
   "source": [
    "merged_df.shape"
   ]
  },
  {
   "cell_type": "code",
   "execution_count": 17,
   "metadata": {},
   "outputs": [
    {
     "output_type": "execute_result",
     "data": {
      "text/plain": "      OrderNum__c  OrderLn__c    Name Book_Date__c BookType__c  OrderRel__c  \\\n0           48586           9  762654   2020-03-19        Void            1   \n1           48633           1  759073   2020-01-21        Void            1   \n2           53842           7  759240   2020-01-22         New            1   \n3           56311           8  757787   2020-01-03         Del            0   \n4           56311          12  757851   2020-01-03         Del            0   \n...           ...         ...     ...          ...         ...          ...   \n4569        68701           2  763683   2020-03-31         New            1   \n4570        68701           3  763684   2020-03-31         New            1   \n4571        68701           4  763685   2020-03-31         New            1   \n4572        68701           5  763686   2020-03-31         New            1   \n4573        68701           6  763687   2020-03-31         New            1   \n\n     Prod_Code__c      SN__c  Order_Line_Amt__c   PO_Num__c  ... Packager__c  \\\n0            AEHC  B5EQ1E078                0.0  9300000815  ...         FSE   \n1            AP7I  B5EX2E079          -375043.0       13516  ...         FSE   \n2            AIFC  B6EL1E142                0.0  4500004343  ...        FSES   \n3            AICC        NaN                0.0         NaN  ...         NaN   \n4            AICC        NaN                0.0         NaN  ...         NaN   \n...           ...        ...                ...         ...  ...         ...   \n4569         PIDE   A8EV2118              429.8        1230  ...         NaN   \n4570         PIDE   A8EV2118              134.4        1230  ...         NaN   \n4571         PIDE   A8EV2118               41.3        1230  ...         NaN   \n4572         PIDE   A8EV2118              177.1        1230  ...         NaN   \n4573         PIDE   A8EV2118               75.6        1230  ...         NaN   \n\n      Market_Segment__c  Payment_Terms__c  OrderHed_FOB__c  \\\n0                AIRSEP   PROGRESS PMT 30         Ex-Works   \n1                 INDUS   PROGRESS PMT 90  Ex-Works Export   \n2                   ENG   PROGRESS PMT 30   FOB East Coast   \n3                   NaN               NaN              NaN   \n4                   NaN               NaN              NaN   \n...                 ...               ...              ...   \n4569                ENG       NET 30 DAYS  Ex-Works Export   \n4570                ENG       NET 30 DAYS  Ex-Works Export   \n4571                ENG       NET 30 DAYS  Ex-Works Export   \n4572                ENG       NET 30 DAYS  Ex-Works Export   \n4573                ENG       NET 30 DAYS  Ex-Works Export   \n\n                               SysRowID__c Order_Num_Ln__c  \\\n0     874d3bbd-b8ea-4f3e-9768-33c1085f35a3         48586-9   \n1     7762a8f1-bb02-4299-9737-9f4930e30ffb         48633-1   \n2     087959d1-06d0-454f-8260-e15bf84c29c8         53842-7   \n3     8857d704-1009-4474-8f7a-2f4403303ee2         56311-8   \n4     14fbdc8f-5744-40cb-8684-7ad5ce838e5f        56311-12   \n...                                    ...             ...   \n4569  8b9e721a-3d73-42c2-b7e1-eb4f95ed4e83         68701-2   \n4570  05db068d-f5c4-444a-833b-057a67fe4be4         68701-3   \n4571  b2042189-c837-49dc-b390-ed8463d25c18         68701-4   \n4572  9d63a65c-50e8-4bae-9c73-93c61eb0f40a         68701-5   \n4573  7fefc9de-a06a-417c-b513-b9a85c930a2d         68701-6   \n\n        Factory_Order__c            Asset__c       Sales_Lead__c  \\\n0     a1ni0000001bF0hAAE                 NaN  005i0000002OS1fAAG   \n1     a1ni0000001bI0XAAU                 NaN  005i0000002OS1hAAG   \n2     a1ni000000405ilAAA                 NaN  005i0000006qn6WAAQ   \n3                    NaN                 NaN                 NaN   \n4                    NaN                 NaN                 NaN   \n...                  ...                 ...                 ...   \n4569  a1ni0000000JDlsAAG  02ii0000006PujgAAC  005i0000006YNDBAA4   \n4570  a1ni0000000JDlsAAG  02ii0000006PujgAAC  005i0000006YNDBAA4   \n4571  a1ni0000000JDlsAAG  02ii0000006PujgAAC  005i0000006YNDBAA4   \n4572  a1ni0000000JDlsAAG  02ii0000006PujgAAC  005i0000006YNDBAA4   \n4573  a1ni0000000JDlsAAG  02ii0000006PujgAAC  005i0000006YNDBAA4   \n\n      Channel_Partner__c  \n0     001i000000LRvQxAAL  \n1     001i000000LRvQaAAL  \n2     001i000000LRvRLAA1  \n3                    NaN  \n4                    NaN  \n...                  ...  \n4569  001i000001zk5sVAAQ  \n4570  001i000001zk5sVAAQ  \n4571  001i000001zk5sVAAQ  \n4572  001i000001zk5sVAAQ  \n4573  001i000001zk5sVAAQ  \n\n[4574 rows x 48 columns]",
      "text/html": "<div>\n<style scoped>\n    .dataframe tbody tr th:only-of-type {\n        vertical-align: middle;\n    }\n\n    .dataframe tbody tr th {\n        vertical-align: top;\n    }\n\n    .dataframe thead th {\n        text-align: right;\n    }\n</style>\n<table border=\"1\" class=\"dataframe\">\n  <thead>\n    <tr style=\"text-align: right;\">\n      <th></th>\n      <th>OrderNum__c</th>\n      <th>OrderLn__c</th>\n      <th>Name</th>\n      <th>Book_Date__c</th>\n      <th>BookType__c</th>\n      <th>OrderRel__c</th>\n      <th>Prod_Code__c</th>\n      <th>SN__c</th>\n      <th>Order_Line_Amt__c</th>\n      <th>PO_Num__c</th>\n      <th>...</th>\n      <th>Packager__c</th>\n      <th>Market_Segment__c</th>\n      <th>Payment_Terms__c</th>\n      <th>OrderHed_FOB__c</th>\n      <th>SysRowID__c</th>\n      <th>Order_Num_Ln__c</th>\n      <th>Factory_Order__c</th>\n      <th>Asset__c</th>\n      <th>Sales_Lead__c</th>\n      <th>Channel_Partner__c</th>\n    </tr>\n  </thead>\n  <tbody>\n    <tr>\n      <th>0</th>\n      <td>48586</td>\n      <td>9</td>\n      <td>762654</td>\n      <td>2020-03-19</td>\n      <td>Void</td>\n      <td>1</td>\n      <td>AEHC</td>\n      <td>B5EQ1E078</td>\n      <td>0.0</td>\n      <td>9300000815</td>\n      <td>...</td>\n      <td>FSE</td>\n      <td>AIRSEP</td>\n      <td>PROGRESS PMT 30</td>\n      <td>Ex-Works</td>\n      <td>874d3bbd-b8ea-4f3e-9768-33c1085f35a3</td>\n      <td>48586-9</td>\n      <td>a1ni0000001bF0hAAE</td>\n      <td>NaN</td>\n      <td>005i0000002OS1fAAG</td>\n      <td>001i000000LRvQxAAL</td>\n    </tr>\n    <tr>\n      <th>1</th>\n      <td>48633</td>\n      <td>1</td>\n      <td>759073</td>\n      <td>2020-01-21</td>\n      <td>Void</td>\n      <td>1</td>\n      <td>AP7I</td>\n      <td>B5EX2E079</td>\n      <td>-375043.0</td>\n      <td>13516</td>\n      <td>...</td>\n      <td>FSE</td>\n      <td>INDUS</td>\n      <td>PROGRESS PMT 90</td>\n      <td>Ex-Works Export</td>\n      <td>7762a8f1-bb02-4299-9737-9f4930e30ffb</td>\n      <td>48633-1</td>\n      <td>a1ni0000001bI0XAAU</td>\n      <td>NaN</td>\n      <td>005i0000002OS1hAAG</td>\n      <td>001i000000LRvQaAAL</td>\n    </tr>\n    <tr>\n      <th>2</th>\n      <td>53842</td>\n      <td>7</td>\n      <td>759240</td>\n      <td>2020-01-22</td>\n      <td>New</td>\n      <td>1</td>\n      <td>AIFC</td>\n      <td>B6EL1E142</td>\n      <td>0.0</td>\n      <td>4500004343</td>\n      <td>...</td>\n      <td>FSES</td>\n      <td>ENG</td>\n      <td>PROGRESS PMT 30</td>\n      <td>FOB East Coast</td>\n      <td>087959d1-06d0-454f-8260-e15bf84c29c8</td>\n      <td>53842-7</td>\n      <td>a1ni000000405ilAAA</td>\n      <td>NaN</td>\n      <td>005i0000006qn6WAAQ</td>\n      <td>001i000000LRvRLAA1</td>\n    </tr>\n    <tr>\n      <th>3</th>\n      <td>56311</td>\n      <td>8</td>\n      <td>757787</td>\n      <td>2020-01-03</td>\n      <td>Del</td>\n      <td>0</td>\n      <td>AICC</td>\n      <td>NaN</td>\n      <td>0.0</td>\n      <td>NaN</td>\n      <td>...</td>\n      <td>NaN</td>\n      <td>NaN</td>\n      <td>NaN</td>\n      <td>NaN</td>\n      <td>8857d704-1009-4474-8f7a-2f4403303ee2</td>\n      <td>56311-8</td>\n      <td>NaN</td>\n      <td>NaN</td>\n      <td>NaN</td>\n      <td>NaN</td>\n    </tr>\n    <tr>\n      <th>4</th>\n      <td>56311</td>\n      <td>12</td>\n      <td>757851</td>\n      <td>2020-01-03</td>\n      <td>Del</td>\n      <td>0</td>\n      <td>AICC</td>\n      <td>NaN</td>\n      <td>0.0</td>\n      <td>NaN</td>\n      <td>...</td>\n      <td>NaN</td>\n      <td>NaN</td>\n      <td>NaN</td>\n      <td>NaN</td>\n      <td>14fbdc8f-5744-40cb-8684-7ad5ce838e5f</td>\n      <td>56311-12</td>\n      <td>NaN</td>\n      <td>NaN</td>\n      <td>NaN</td>\n      <td>NaN</td>\n    </tr>\n    <tr>\n      <th>...</th>\n      <td>...</td>\n      <td>...</td>\n      <td>...</td>\n      <td>...</td>\n      <td>...</td>\n      <td>...</td>\n      <td>...</td>\n      <td>...</td>\n      <td>...</td>\n      <td>...</td>\n      <td>...</td>\n      <td>...</td>\n      <td>...</td>\n      <td>...</td>\n      <td>...</td>\n      <td>...</td>\n      <td>...</td>\n      <td>...</td>\n      <td>...</td>\n      <td>...</td>\n      <td>...</td>\n    </tr>\n    <tr>\n      <th>4569</th>\n      <td>68701</td>\n      <td>2</td>\n      <td>763683</td>\n      <td>2020-03-31</td>\n      <td>New</td>\n      <td>1</td>\n      <td>PIDE</td>\n      <td>A8EV2118</td>\n      <td>429.8</td>\n      <td>1230</td>\n      <td>...</td>\n      <td>NaN</td>\n      <td>ENG</td>\n      <td>NET 30 DAYS</td>\n      <td>Ex-Works Export</td>\n      <td>8b9e721a-3d73-42c2-b7e1-eb4f95ed4e83</td>\n      <td>68701-2</td>\n      <td>a1ni0000000JDlsAAG</td>\n      <td>02ii0000006PujgAAC</td>\n      <td>005i0000006YNDBAA4</td>\n      <td>001i000001zk5sVAAQ</td>\n    </tr>\n    <tr>\n      <th>4570</th>\n      <td>68701</td>\n      <td>3</td>\n      <td>763684</td>\n      <td>2020-03-31</td>\n      <td>New</td>\n      <td>1</td>\n      <td>PIDE</td>\n      <td>A8EV2118</td>\n      <td>134.4</td>\n      <td>1230</td>\n      <td>...</td>\n      <td>NaN</td>\n      <td>ENG</td>\n      <td>NET 30 DAYS</td>\n      <td>Ex-Works Export</td>\n      <td>05db068d-f5c4-444a-833b-057a67fe4be4</td>\n      <td>68701-3</td>\n      <td>a1ni0000000JDlsAAG</td>\n      <td>02ii0000006PujgAAC</td>\n      <td>005i0000006YNDBAA4</td>\n      <td>001i000001zk5sVAAQ</td>\n    </tr>\n    <tr>\n      <th>4571</th>\n      <td>68701</td>\n      <td>4</td>\n      <td>763685</td>\n      <td>2020-03-31</td>\n      <td>New</td>\n      <td>1</td>\n      <td>PIDE</td>\n      <td>A8EV2118</td>\n      <td>41.3</td>\n      <td>1230</td>\n      <td>...</td>\n      <td>NaN</td>\n      <td>ENG</td>\n      <td>NET 30 DAYS</td>\n      <td>Ex-Works Export</td>\n      <td>b2042189-c837-49dc-b390-ed8463d25c18</td>\n      <td>68701-4</td>\n      <td>a1ni0000000JDlsAAG</td>\n      <td>02ii0000006PujgAAC</td>\n      <td>005i0000006YNDBAA4</td>\n      <td>001i000001zk5sVAAQ</td>\n    </tr>\n    <tr>\n      <th>4572</th>\n      <td>68701</td>\n      <td>5</td>\n      <td>763686</td>\n      <td>2020-03-31</td>\n      <td>New</td>\n      <td>1</td>\n      <td>PIDE</td>\n      <td>A8EV2118</td>\n      <td>177.1</td>\n      <td>1230</td>\n      <td>...</td>\n      <td>NaN</td>\n      <td>ENG</td>\n      <td>NET 30 DAYS</td>\n      <td>Ex-Works Export</td>\n      <td>9d63a65c-50e8-4bae-9c73-93c61eb0f40a</td>\n      <td>68701-5</td>\n      <td>a1ni0000000JDlsAAG</td>\n      <td>02ii0000006PujgAAC</td>\n      <td>005i0000006YNDBAA4</td>\n      <td>001i000001zk5sVAAQ</td>\n    </tr>\n    <tr>\n      <th>4573</th>\n      <td>68701</td>\n      <td>6</td>\n      <td>763687</td>\n      <td>2020-03-31</td>\n      <td>New</td>\n      <td>1</td>\n      <td>PIDE</td>\n      <td>A8EV2118</td>\n      <td>75.6</td>\n      <td>1230</td>\n      <td>...</td>\n      <td>NaN</td>\n      <td>ENG</td>\n      <td>NET 30 DAYS</td>\n      <td>Ex-Works Export</td>\n      <td>7fefc9de-a06a-417c-b513-b9a85c930a2d</td>\n      <td>68701-6</td>\n      <td>a1ni0000000JDlsAAG</td>\n      <td>02ii0000006PujgAAC</td>\n      <td>005i0000006YNDBAA4</td>\n      <td>001i000001zk5sVAAQ</td>\n    </tr>\n  </tbody>\n</table>\n<p>4574 rows × 48 columns</p>\n</div>"
     },
     "metadata": {},
     "execution_count": 17
    }
   ],
   "source": [
    "merged_df"
   ]
  },
  {
   "cell_type": "code",
   "execution_count": 18,
   "metadata": {},
   "outputs": [
    {
     "output_type": "stream",
     "name": "stdout",
     "text": "3293 rows have been processed. 0.48 minutes have passed\n4574 rows have been processed. 0.63 minutes have passed\n"
    }
   ],
   "source": [
    "# upsert data\n",
    "if merged_df.size > 0:\n",
    "    sf.upsert_data(\n",
    "        creds=creds, object_api='Epicor_Transaction__c',\n",
    "        ex_id='Order_Num_Ln__c', df=merged_df\n",
    "    )"
   ]
  },
  {
   "cell_type": "code",
   "execution_count": null,
   "metadata": {},
   "outputs": [],
   "source": [
    "# move upserted files\n",
    "for each in os.listdir(directory):\n",
    "    if each == '.DS_Store' or each == 'Uploaded':\n",
    "        continue\n",
    "    shutil.move(\n",
    "        os.path.join(directory, each),\n",
    "        os.path.join(f'{directory}/Uploaded', each)\n",
    "    )\n",
    "\n",
    "print('--- DONE! ---')"
   ]
  }
 ]
}